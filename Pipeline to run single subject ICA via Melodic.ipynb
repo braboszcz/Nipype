{
 "metadata": {
  "name": ""
 },
 "nbformat": 3,
 "nbformat_minor": 0,
 "worksheets": [
  {
   "cells": [
    {
     "cell_type": "markdown",
     "metadata": {},
     "source": [
      "Run singles subject ICA on single session for artefact rejection"
     ]
    },
    {
     "cell_type": "code",
     "collapsed": false,
     "input": [
      "# The script is:\n",
      "# - importing DICOMS into 3D NIFTI (for now done manually with Labnic's Matlab function)\n",
      "# - convert 3D Nifti to 4D\n",
      "# - run FSL FEAT function to realignement and filter data (no smoothing, no normalization ( = coregistration)\n",
      "# - run melodic ICA\n",
      "\n",
      "import nipype.pipeline.engine as pe\n",
      "import nipype.interfaces.io as nio\n",
      "import nipype.interfaces.fsl as fsl\n",
      "import nipype.interfaces.utility as util     # utility\n",
      "import os\n",
      "import glob \n",
      "\n",
      "fsl.FSLCommand.set_default_output_type('NIFTI_GZ')\n",
      "\n",
      "#---------------------------------------------------------------------------------------------------------#\n",
      "#                      Define subject and session list and expe directory\n",
      "#\n",
      "#---------------------------------------------------------------------------------------------------------#\n",
      "\n",
      "#SUBJ_LIST = [\"S02\", \"S03\", \"S04\", \"S05\", \"S06\", \"S07\", \"S08\", \"S09\", \"S10\", \"S11\", \"S12\", \"S13\", \"S14\", \"S15\", \"S16\", \"S17\", \"S18\", \"S19\", \"S20\"] \n",
      "subject_list = [\"S02\", \"S03\", \"S04\", \"S05\", \"S06\", \"S07\", \"S08\", \"S09\", \"S10\", \"S11\", \"S12\", \"S13\", \"S14\", \"S15\", \"S16\", \"S17\", \"S18\", \"S19\", \"S20\"]  \n",
      "session_list = [\"hypno1\", \"hypno2\", \"norm1\", \"norm2\", \"painloc_norm\",\"painloc_hypno\"] #, \"painloc_hypno\", \"hypno1\", \"hypno2\", \"norm1\", \"norm2\" \"painloc_norm\",\"painloc_hypno\",\n",
      "expe_dir = os.path.abspath('/media/claire/Data/EMPATHYP_DATA/Subjects')\n",
      "\n",
      "#---------------------------------------------------------------------------------------------------------#\n",
      "#                      Define directory architecture and path variables to access the files\n",
      "#\n",
      "#---------------------------------------------------------------------------------------------------------#\n",
      "\n",
      "# define node Identity Interface to specify the list of subjects the pipeline should be executed on\n",
      "infosource= pe.Node(util.IdentityInterface(fields = ['subject_id', 'session']), name = 'infosource') # give the variable names in the path to iterate on \n",
      "infosource.iterables = ([('subject_id', subject_list), ('session', session_list)])\n",
      "\n",
      "# node datagrabber: to grab the input data\n",
      "datasource = pe.Node(nio.DataGrabber(infields = ['subject_id', 'session' ], outfields = ['out_files']), name = 'datasource') # \n",
      "datasource.inputs.base_directory = expe_dir # name of working directory\n",
      "datasource.inputs.template = '%s/ICA/%s/*.nii'   #path to access data from working directory, takes Data Grabber infields as variables\n",
      "datasource.inputs.sort_filelist = False # mandatory field\n",
      "\n",
      "# Node datasink: create data sink node to store important output\n",
      "datasink = pe.Node(nio.DataSink(), name = \"datasink\")\n",
      "datasink.inputs.base_directory = os.path.abspath(expe_dir) \n",
      "#datasink.inputs.container = 'session' + '_ica'  # define where the data sink input should be stored at                   \n",
      "datasink.inputs.parameterization= True; # do folder arobrescence\n",
      "datasink.inputs.substitutions = [('_session_', ''),('_subject_id','')] # remove extra names put by parametrization\n",
      "\n",
      "#---------------------------------------------------------------------------------------------------------#\n",
      "#                      Define functions to process the files\n",
      "#\n",
      "#---------------------------------------------------------------------------------------------------------#\n",
      "\n",
      "#---------------------------------------------------------------------------------------------------------#\n",
      "# Helper function\n",
      "#---------------------------------------------------------------------------------------------------------#\n",
      "\n",
      "# pick the first file from a list of files\n",
      "def pickfirst(files):\n",
      "    if isinstance(files, list):\n",
      "        return files[0]\n",
      "    else:\n",
      "        return files\n",
      "\n",
      "   \n",
      "#---------------------------------------------------------------------------------------------------------#\n",
      "# Image processing functions\n",
      "#---------------------------------------------------------------------------------------------------------#\n",
      "\n",
      "# node to merge all nii to 4D nii\n",
      "merger = pe.Node(fsl.Merge(dimension = 't', \n",
      "                              output_type = 'NIFTI_GZ',\n",
      "                               tr = 2.1),  # glob.glob('*.nii')\n",
      "                               name = 'merge_nii_in_4D_file',\n",
      "                               #iterfield = ['in_file']\n",
      "                               )\n",
      "\n",
      "#Extract the middle volume of the first run as the reference\n",
      "\n",
      "extract_ref = pe.Node(interface=fsl.ExtractROI(t_size=1),\n",
      "                      name = 'extractref')\n",
      "\n",
      "\n",
      "#motion correction\n",
      "motion_correct = pe.Node(fsl.MCFLIRT(save_mats = True, save_plots = True),\n",
      "                   name = 'motion_correc') \n",
      "                  # iterfield = ['in_file'])\n",
      "\n",
      "\n",
      "plot_motion = pe.Node(interface=fsl.PlotMotionParams(in_source='fsl'),\n",
      "                        name='plot_motion')\n",
      "                 #       iterfield=['in_file'])\n",
      "plot_motion.iterables = ('plot_type', ['rotations', 'translations'])\n",
      "\n",
      "    \n",
      "### Get Mask for data\n",
      "\n",
      "#Extract the mean volume of the first functional run\n",
      "\n",
      "meanfunc = pe.Node(interface=fsl.ImageMaths(op_string = '-Tmean',\n",
      "                                            suffix='_mean'),\n",
      "                   name='meanfunc')\n",
      "\n",
      "#Strip the skull from the mean functional to generate a mask\n",
      "\n",
      "meanfuncmask = pe.Node(interface=fsl.BET(mask = True,\n",
      "                                         no_output=True,\n",
      "                                         frac = 0.3),\n",
      "                       name = 'meanfuncmask')\n",
      "\n",
      "#Mask the functional runs with the extracted mask\n",
      "maskfunc = pe.Node(interface=fsl.ImageMaths(suffix='_bet',\n",
      "                                               op_string='-mas'),\n",
      "                      #iterfield=['in_file'],\n",
      "                      name = 'maskfunc')\n",
      "    \n",
      " \n",
      "# high pass filter\n",
      "highpass = pe.Node(interface=fsl.ImageMaths(suffix='_tempfilt'),\n",
      "                      #iterfield=['in_file'],\n",
      "                      name='highpass')\n",
      "\n",
      "\n",
      "#run ICA\n",
      "melodic = pe.Node(fsl.MELODIC(tr_sec = 2.1, report = True), name = 'melodic_ica') \n",
      "                              \n",
      "\n",
      "#---------------------------------------------------------------------------------------------------------#\n",
      "#                      Define workflow connection between functions\n",
      "#\n",
      "#---------------------------------------------------------------------------------------------------------#\n",
      "\n",
      "\n",
      "preproc = pe.Workflow(name='preproc')     \n",
      "preproc.base_dir = expe_dir\n",
      "# connect workflow\n",
      "preproc.connect([(infosource, datasource,[('subject_id', 'subject_id'), ('session', 'session')] ), #gives 2 inputs (subject id and sessin) to each infosource and datasource \n",
      "                (infosource, datasink, [('subject_id' , 'container')]), # affect subject id \n",
      "                 (datasource, merger, [('out_files', 'in_files')]), # the output of datasource (outfiles) is used as input to merger (in_files)\n",
      "                 (merger, motion_correct, [('merged_file', 'in_file')]), # takes ref file from extract ref\n",
      "                 (motion_correct, plot_motion, [('par_file', 'in_file')]), # plot estimated motion parameters\n",
      "                 (motion_correct, meanfunc, [(('out_file', pickfirst), 'in_file')]),\n",
      "                 (meanfunc, meanfuncmask, [('out_file', 'in_file')]),\n",
      "                 (motion_correct, maskfunc, [('out_file',  'in_file')]),\n",
      "                 (meanfuncmask, maskfunc, [('mask_file', 'in_file2')]),\n",
      "                 (maskfunc, highpass, [( 'out_file', 'in_file')]),\n",
      "                (highpass, melodic, [('out_file', 'in_files')]),\n",
      "                (melodic, datasink,  [(['out_dir', 'FSL_ICA.@container/melodic'])]),\n",
      "                 ]) # the output of merger (merged_files)  is used as input to datasink to go in folder toto\n",
      "preproc.run()\n",
      "\n",
      "\n",
      "#---------------------------------------------------------------------------------------------------------#\n",
      "#                      Export graph of the workflow\n",
      "#\n",
      "#---------------------------------------------------------------------------------------------------------#\n",
      "\n",
      "\n",
      "preproc.write_graph()\n",
      "#from IPython.display import Image\n",
      "#Image(filename = \"ica_workflow_graph.dot.png\")\n"
     ],
     "language": "python",
     "metadata": {},
     "outputs": [
      {
       "output_type": "stream",
       "stream": "stderr",
       "text": [
        "INFO:workflow:['check', 'execution', 'logging']\n"
       ]
      },
      {
       "output_type": "stream",
       "stream": "stderr",
       "text": [
        "INFO:workflow:Running serially.\n"
       ]
      },
      {
       "output_type": "stream",
       "stream": "stderr",
       "text": [
        "INFO:workflow:Executing node datasource.b052 in dir: /media/claire/Data/EMPATHYP_DATA/Subjects/preproc/_session_painloc_norm_subject_id_S10/datasource\n"
       ]
      },
      {
       "output_type": "stream",
       "stream": "stderr",
       "text": [
        "INFO:workflow:Executing node merge_nii_in_4D_file.b052 in dir: /media/claire/Data/EMPATHYP_DATA/Subjects/preproc/_session_painloc_norm_subject_id_S10/merge_nii_in_4D_file\n"
       ]
      },
      {
       "output_type": "stream",
       "stream": "stderr",
       "text": [
        "INFO:workflow:Running: fslmerge -tr f52977-133656-00066-00066-1_merged.nii.gz /media/claire/Data/EMPATHYP_DATA/Subjects/S10/ICA/painloc_norm/f52977-133656-00066-00066-1.nii /media/claire/Data/EMPATHYP_DATA/Subjects/S10/ICA/painloc_norm/f52977-133604-00041-00041-1.nii /media/claire/Data/EMPATHYP_DATA/Subjects/S10/ICA/painloc_norm/f52977-133852-00121-00121-1.nii /media/claire/Data/EMPATHYP_DATA/Subjects/S10/ICA/painloc_norm/f52977-133448-00005-00005-1.nii /media/claire/Data/EMPATHYP_DATA/Subjects/S10/ICA/painloc_norm/f52977-133659-00067-00067-1.nii /media/claire/Data/EMPATHYP_DATA/Subjects/S10/ICA/painloc_norm/f52977-133844-00117-00117-1.nii /media/claire/Data/EMPATHYP_DATA/Subjects/S10/ICA/painloc_norm/f52977-133454-00008-00008-1.nii /media/claire/Data/EMPATHYP_DATA/Subjects/S10/ICA/painloc_norm/f52977-134008-00157-00157-1.nii /media/claire/Data/EMPATHYP_DATA/Subjects/S10/ICA/painloc_norm/f52977-133718-00076-00076-1.nii /media/claire/Data/EMPATHYP_DATA/Subjects/S10/ICA/painloc_norm/f52977-133734-00084-00084-1.nii /media/claire/Data/EMPATHYP_DATA/Subjects/S10/ICA/painloc_norm/f52977-133602-00040-00040-1.nii /media/claire/Data/EMPATHYP_DATA/Subjects/S10/ICA/painloc_norm/f52977-133608-00043-00043-1.nii /media/claire/Data/EMPATHYP_DATA/Subjects/S10/ICA/painloc_norm/f52977-133633-00055-00055-1.nii /media/claire/Data/EMPATHYP_DATA/Subjects/S10/ICA/painloc_norm/f52977-133829-00110-00110-1.nii /media/claire/Data/EMPATHYP_DATA/Subjects/S10/ICA/painloc_norm/f52977-133538-00029-00029-1.nii /media/claire/Data/EMPATHYP_DATA/Subjects/S10/ICA/painloc_norm/f52977-133928-00138-00138-1.nii /media/claire/Data/EMPATHYP_DATA/Subjects/S10/ICA/painloc_norm/f52977-133926-00137-00137-1.nii /media/claire/Data/EMPATHYP_DATA/Subjects/S10/ICA/painloc_norm/f52977-133819-00105-00105-1.nii /media/claire/Data/EMPATHYP_DATA/Subjects/S10/ICA/painloc_norm/f52977-133924-00136-00136-1.nii /media/claire/Data/EMPATHYP_DATA/Subjects/S10/ICA/painloc_norm/f52977-133707-00071-00071-1.nii /media/claire/Data/EMPATHYP_DATA/Subjects/S10/ICA/painloc_norm/f52977-133905-00127-00127-1.nii /media/claire/Data/EMPATHYP_DATA/Subjects/S10/ICA/painloc_norm/f52977-133838-00114-00114-1.nii /media/claire/Data/EMPATHYP_DATA/Subjects/S10/ICA/painloc_norm/f52977-133956-00151-00151-1.nii /media/claire/Data/EMPATHYP_DATA/Subjects/S10/ICA/painloc_norm/f52977-133517-00019-00019-1.nii /media/claire/Data/EMPATHYP_DATA/Subjects/S10/ICA/painloc_norm/f52977-133610-00044-00044-1.nii /media/claire/Data/EMPATHYP_DATA/Subjects/S10/ICA/painloc_norm/f52977-133547-00033-00033-1.nii /media/claire/Data/EMPATHYP_DATA/Subjects/S10/ICA/painloc_norm/f52977-133846-00118-00118-1.nii /media/claire/Data/EMPATHYP_DATA/Subjects/S10/ICA/painloc_norm/f52977-133739-00086-00086-1.nii /media/claire/Data/EMPATHYP_DATA/Subjects/S10/ICA/painloc_norm/f52977-133522-00021-00021-1.nii /media/claire/Data/EMPATHYP_DATA/Subjects/S10/ICA/painloc_norm/f52977-133555-00037-00037-1.nii /media/claire/Data/EMPATHYP_DATA/Subjects/S10/ICA/painloc_norm/f52977-133503-00012-00012-1.nii /media/claire/Data/EMPATHYP_DATA/Subjects/S10/ICA/painloc_norm/f52977-133713-00074-00074-1.nii /media/claire/Data/EMPATHYP_DATA/Subjects/S10/ICA/painloc_norm/f52977-133646-00061-00061-1.nii /media/claire/Data/EMPATHYP_DATA/Subjects/S10/ICA/painloc_norm/f52977-133520-00020-00020-1.nii /media/claire/Data/EMPATHYP_DATA/Subjects/S10/ICA/painloc_norm/f52977-133745-00089-00089-1.nii /media/claire/Data/EMPATHYP_DATA/Subjects/S10/ICA/painloc_norm/f52977-133909-00129-00129-1.nii /media/claire/Data/EMPATHYP_DATA/Subjects/S10/ICA/painloc_norm/f52977-133650-00063-00063-1.nii /media/claire/Data/EMPATHYP_DATA/Subjects/S10/ICA/painloc_norm/f52977-133728-00081-00081-1.nii /media/claire/Data/EMPATHYP_DATA/Subjects/S10/ICA/painloc_norm/f52977-133749-00091-00091-1.nii /media/claire/Data/EMPATHYP_DATA/Subjects/S10/ICA/painloc_norm/f52977-133444-00003-00003-1.nii /media/claire/Data/EMPATHYP_DATA/Subjects/S10/ICA/painloc_norm/f52977-133642-00059-00059-1.nii /media/claire/Data/EMPATHYP_DATA/Subjects/S10/ICA/painloc_norm/f52977-133553-00036-00036-1.nii /media/claire/Data/EMPATHYP_DATA/Subjects/S10/ICA/painloc_norm/f52977-133619-00048-00048-1.nii /media/claire/Data/EMPATHYP_DATA/Subjects/S10/ICA/painloc_norm/f52977-133859-00124-00124-1.nii /media/claire/Data/EMPATHYP_DATA/Subjects/S10/ICA/painloc_norm/f52977-133920-00134-00134-1.nii /media/claire/Data/EMPATHYP_DATA/Subjects/S10/ICA/painloc_norm/f52977-133747-00090-00090-1.nii /media/claire/Data/EMPATHYP_DATA/Subjects/S10/ICA/painloc_norm/f52977-133534-00027-00027-1.nii /media/claire/Data/EMPATHYP_DATA/Subjects/S10/ICA/painloc_norm/f52977-133616-00047-00047-1.nii /media/claire/Data/EMPATHYP_DATA/Subjects/S10/ICA/painloc_norm/f52977-133442-00002-00002-1.nii /media/claire/Data/EMPATHYP_DATA/Subjects/S10/ICA/painloc_norm/f52977-133831-00111-00111-1.nii /media/claire/Data/EMPATHYP_DATA/Subjects/S10/ICA/painloc_norm/f52977-133652-00064-00064-1.nii /media/claire/Data/EMPATHYP_DATA/Subjects/S10/ICA/painloc_norm/f52977-133840-00115-00115-1.nii /media/claire/Data/EMPATHYP_DATA/Subjects/S10/ICA/painloc_norm/f52977-133724-00079-00079-1.nii /media/claire/Data/EMPATHYP_DATA/Subjects/S10/ICA/painloc_norm/f52977-133743-00088-00088-1.nii /media/claire/Data/EMPATHYP_DATA/Subjects/S10/ICA/painloc_norm/f52977-133930-00139-00139-1.nii /media/claire/Data/EMPATHYP_DATA/Subjects/S10/ICA/painloc_norm/f52977-133456-00009-00009-1.nii /media/claire/Data/EMPATHYP_DATA/Subjects/S10/ICA/painloc_norm/f52977-133802-00097-00097-1.nii /media/claire/Data/EMPATHYP_DATA/Subjects/S10/ICA/painloc_norm/f52977-133827-00109-00109-1.nii /media/claire/Data/EMPATHYP_DATA/Subjects/S10/ICA/painloc_norm/f52977-133958-00152-00152-1.nii /media/claire/Data/EMPATHYP_DATA/Subjects/S10/ICA/painloc_norm/f52977-133509-00015-00015-1.nii /media/claire/Data/EMPATHYP_DATA/Subjects/S10/ICA/painloc_norm/f52977-133543-00031-00031-1.nii /media/claire/Data/EMPATHYP_DATA/Subjects/S10/ICA/painloc_norm/f52977-134010-00158-00158-1.nii /media/claire/Data/EMPATHYP_DATA/Subjects/S10/ICA/painloc_norm/f52977-133911-00130-00130-1.nii /media/claire/Data/EMPATHYP_DATA/Subjects/S10/ICA/painloc_norm/f52977-133600-00039-00039-1.nii /media/claire/Data/EMPATHYP_DATA/Subjects/S10/ICA/painloc_norm/f52977-133711-00073-00073-1.nii /media/claire/Data/EMPATHYP_DATA/Subjects/S10/ICA/painloc_norm/f52977-133709-00072-00072-1.nii /media/claire/Data/EMPATHYP_DATA/Subjects/S10/ICA/painloc_norm/f52977-133621-00049-00049-1.nii /media/claire/Data/EMPATHYP_DATA/Subjects/S10/ICA/painloc_norm/f52977-133606-00042-00042-1.nii /media/claire/Data/EMPATHYP_DATA/Subjects/S10/ICA/painloc_norm/f52977-133937-00142-00142-1.nii /media/claire/Data/EMPATHYP_DATA/Subjects/S10/ICA/painloc_norm/f52977-133532-00026-00026-1.nii /media/claire/Data/EMPATHYP_DATA/Subjects/S10/ICA/painloc_norm/f52977-133732-00083-00083-1.nii /media/claire/Data/EMPATHYP_DATA/Subjects/S10/ICA/painloc_norm/f52977-133541-00030-00030-1.nii /media/claire/Data/EMPATHYP_DATA/Subjects/S10/ICA/painloc_norm/f52977-133922-00135-00135-1.nii /media/claire/Data/EMPATHYP_DATA/Subjects/S10/ICA/painloc_norm/f52977-133821-00106-00106-1.nii /media/claire/Data/EMPATHYP_DATA/Subjects/S10/ICA/painloc_norm/f52977-133536-00028-00028-1.nii /media/claire/Data/EMPATHYP_DATA/Subjects/S10/ICA/painloc_norm/f52977-133943-00145-00145-1.nii /media/claire/Data/EMPATHYP_DATA/Subjects/S10/ICA/painloc_norm/f52977-133450-00006-00006-1.nii /media/claire/Data/EMPATHYP_DATA/Subjects/S10/ICA/painloc_norm/f52977-133644-00060-00060-1.nii /media/claire/Data/EMPATHYP_DATA/Subjects/S10/ICA/painloc_norm/f52977-133452-00007-00007-1.nii /media/claire/Data/EMPATHYP_DATA/Subjects/S10/ICA/painloc_norm/f52977-133730-00082-00082-1.nii /media/claire/Data/EMPATHYP_DATA/Subjects/S10/ICA/painloc_norm/f52977-133446-00004-00004-1.nii /media/claire/Data/EMPATHYP_DATA/Subjects/S10/ICA/painloc_norm/f52977-133625-00051-00051-1.nii /media/claire/Data/EMPATHYP_DATA/Subjects/S10/ICA/painloc_norm/f52977-133907-00128-00128-1.nii /media/claire/Data/EMPATHYP_DATA/Subjects/S10/ICA/painloc_norm/f52977-133439-00001-00001-1.nii /media/claire/Data/EMPATHYP_DATA/Subjects/S10/ICA/painloc_norm/f52977-133631-00054-00054-1.nii /media/claire/Data/EMPATHYP_DATA/Subjects/S10/ICA/painloc_norm/f52977-133850-00120-00120-1.nii /media/claire/Data/EMPATHYP_DATA/Subjects/S10/ICA/painloc_norm/f52977-133756-00094-00094-1.nii /media/claire/Data/EMPATHYP_DATA/Subjects/S10/ICA/painloc_norm/f52977-133612-00045-00045-1.nii /media/claire/Data/EMPATHYP_DATA/Subjects/S10/ICA/painloc_norm/f52977-133804-00098-00098-1.nii /media/claire/Data/EMPATHYP_DATA/Subjects/S10/ICA/painloc_norm/f52977-133507-00014-00014-1.nii /media/claire/Data/EMPATHYP_DATA/Subjects/S10/ICA/painloc_norm/f52977-133914-00131-00131-1.nii /media/claire/Data/EMPATHYP_DATA/Subjects/S10/ICA/painloc_norm/f52977-133903-00126-00126-1.nii /media/claire/Data/EMPATHYP_DATA/Subjects/S10/ICA/painloc_norm/f52977-133627-00052-00052-1.nii /media/claire/Data/EMPATHYP_DATA/Subjects/S10/ICA/painloc_norm/f52977-133836-00113-00113-1.nii /media/claire/Data/EMPATHYP_DATA/Subjects/S10/ICA/painloc_norm/f52977-133941-00144-00144-1.nii /media/claire/Data/EMPATHYP_DATA/Subjects/S10/ICA/painloc_norm/f52977-133703-00069-00069-1.nii /media/claire/Data/EMPATHYP_DATA/Subjects/S10/ICA/painloc_norm/f52977-133933-00140-00140-1.nii /media/claire/Data/EMPATHYP_DATA/Subjects/S10/ICA/painloc_norm/f52977-133530-00025-00025-1.nii /media/claire/Data/EMPATHYP_DATA/Subjects/S10/ICA/painloc_norm/f52977-133753-00093-00093-1.nii /media/claire/Data/EMPATHYP_DATA/Subjects/S10/ICA/painloc_norm/f52977-133638-00057-00057-1.nii /media/claire/Data/EMPATHYP_DATA/Subjects/S10/ICA/painloc_norm/f52977-133654-00065-00065-1.nii /media/claire/Data/EMPATHYP_DATA/Subjects/S10/ICA/painloc_norm/f52977-133705-00070-00070-1.nii /media/claire/Data/EMPATHYP_DATA/Subjects/S10/ICA/painloc_norm/f52977-133524-00022-00022-1.nii /media/claire/Data/EMPATHYP_DATA/Subjects/S10/ICA/painloc_norm/f52977-133823-00107-00107-1.nii /media/claire/Data/EMPATHYP_DATA/Subjects/S10/ICA/painloc_norm/f52977-133857-00123-00123-1.nii /media/claire/Data/EMPATHYP_DATA/Subjects/S10/ICA/painloc_norm/f52977-133812-00102-00102-1.nii /media/claire/Data/EMPATHYP_DATA/Subjects/S10/ICA/painloc_norm/f52977-133458-00010-00010-1.nii /media/claire/Data/EMPATHYP_DATA/Subjects/S10/ICA/painloc_norm/f52977-133800-00096-00096-1.nii /media/claire/Data/EMPATHYP_DATA/Subjects/S10/ICA/painloc_norm/f52977-133825-00108-00108-1.nii /media/claire/Data/EMPATHYP_DATA/Subjects/S10/ICA/painloc_norm/f52977-133526-00023-00023-1.nii /media/claire/Data/EMPATHYP_DATA/Subjects/S10/ICA/painloc_norm/f52977-133901-00125-00125-1.nii /media/claire/Data/EMPATHYP_DATA/Subjects/S10/ICA/painloc_norm/f52977-133515-00018-00018-1.nii /media/claire/Data/EMPATHYP_DATA/Subjects/S10/ICA/painloc_norm/f52977-133614-00046-00046-1.nii /media/claire/Data/EMPATHYP_DATA/Subjects/S10/ICA/painloc_norm/f52977-133833-00112-00112-1.nii /media/claire/Data/EMPATHYP_DATA/Subjects/S10/ICA/painloc_norm/f52977-134002-00154-00154-1.nii /media/claire/Data/EMPATHYP_DATA/Subjects/S10/ICA/painloc_norm/f52977-133511-00016-00016-1.nii /media/claire/Data/EMPATHYP_DATA/Subjects/S10/ICA/painloc_norm/f52977-133945-00146-00146-1.nii /media/claire/Data/EMPATHYP_DATA/Subjects/S10/ICA/painloc_norm/f52977-133640-00058-00058-1.nii /media/claire/Data/EMPATHYP_DATA/Subjects/S10/ICA/painloc_norm/f52977-133935-00141-00141-1.nii /media/claire/Data/EMPATHYP_DATA/Subjects/S10/ICA/painloc_norm/f52977-133726-00080-00080-1.nii /media/claire/Data/EMPATHYP_DATA/Subjects/S10/ICA/painloc_norm/f52977-133720-00077-00077-1.nii /media/claire/Data/EMPATHYP_DATA/Subjects/S10/ICA/painloc_norm/f52977-133741-00087-00087-1.nii /media/claire/Data/EMPATHYP_DATA/Subjects/S10/ICA/painloc_norm/f52977-133635-00056-00056-1.nii /media/claire/Data/EMPATHYP_DATA/Subjects/S10/ICA/painloc_norm/f52977-133722-00078-00078-1.nii /media/claire/Data/EMPATHYP_DATA/Subjects/S10/ICA/painloc_norm/f52977-133949-00148-00148-1.nii /media/claire/Data/EMPATHYP_DATA/Subjects/S10/ICA/painloc_norm/f52977-133815-00103-00103-1.nii /media/claire/Data/EMPATHYP_DATA/Subjects/S10/ICA/painloc_norm/f52977-133551-00035-00035-1.nii /media/claire/Data/EMPATHYP_DATA/Subjects/S10/ICA/painloc_norm/f52977-133513-00017-00017-1.nii /media/claire/Data/EMPATHYP_DATA/Subjects/S10/ICA/painloc_norm/f52977-133817-00104-00104-1.nii /media/claire/Data/EMPATHYP_DATA/Subjects/S10/ICA/painloc_norm/f52977-133501-00011-00011-1.nii /media/claire/Data/EMPATHYP_DATA/Subjects/S10/ICA/painloc_norm/f52977-133623-00050-00050-1.nii /media/claire/Data/EMPATHYP_DATA/Subjects/S10/ICA/painloc_norm/f52977-133629-00053-00053-1.nii /media/claire/Data/EMPATHYP_DATA/Subjects/S10/ICA/painloc_norm/f52977-133806-00099-00099-1.nii /media/claire/Data/EMPATHYP_DATA/Subjects/S10/ICA/painloc_norm/f52977-134004-00155-00155-1.nii /media/claire/Data/EMPATHYP_DATA/Subjects/S10/ICA/painloc_norm/f52977-133855-00122-00122-1.nii /media/claire/Data/EMPATHYP_DATA/Subjects/S10/ICA/painloc_norm/f52977-133810-00101-00101-1.nii /media/claire/Data/EMPATHYP_DATA/Subjects/S10/ICA/painloc_norm/f52977-134000-00153-00153-1.nii /media/claire/Data/EMPATHYP_DATA/Subjects/S10/ICA/painloc_norm/f52977-133916-00132-00132-1.nii /media/claire/Data/EMPATHYP_DATA/Subjects/S10/ICA/painloc_norm/f52977-133715-00075-00075-1.nii /media/claire/Data/EMPATHYP_DATA/Subjects/S10/ICA/painloc_norm/f52977-133549-00034-00034-1.nii /media/claire/Data/EMPATHYP_DATA/Subjects/S10/ICA/painloc_norm/f52977-133737-00085-00085-1.nii /media/claire/Data/EMPATHYP_DATA/Subjects/S10/ICA/painloc_norm/f52977-133918-00133-00133-1.nii /media/claire/Data/EMPATHYP_DATA/Subjects/S10/ICA/painloc_norm/f52977-133842-00116-00116-1.nii /media/claire/Data/EMPATHYP_DATA/Subjects/S10/ICA/painloc_norm/f52977-133648-00062-00062-1.nii /media/claire/Data/EMPATHYP_DATA/Subjects/S10/ICA/painloc_norm/f52977-133528-00024-00024-1.nii /media/claire/Data/EMPATHYP_DATA/Subjects/S10/ICA/painloc_norm/f52977-133545-00032-00032-1.nii /media/claire/Data/EMPATHYP_DATA/Subjects/S10/ICA/painloc_norm/f52977-133701-00068-00068-1.nii /media/claire/Data/EMPATHYP_DATA/Subjects/S10/ICA/painloc_norm/f52977-133951-00149-00149-1.nii /media/claire/Data/EMPATHYP_DATA/Subjects/S10/ICA/painloc_norm/f52977-134006-00156-00156-1.nii /media/claire/Data/EMPATHYP_DATA/Subjects/S10/ICA/painloc_norm/f52977-133751-00092-00092-1.nii /media/claire/Data/EMPATHYP_DATA/Subjects/S10/ICA/painloc_norm/f52977-133848-00119-00119-1.nii /media/claire/Data/EMPATHYP_DATA/Subjects/S10/ICA/painloc_norm/f52977-133954-00150-00150-1.nii /media/claire/Data/EMPATHYP_DATA/Subjects/S10/ICA/painloc_norm/f52977-133758-00095-00095-1.nii /media/claire/Data/EMPATHYP_DATA/Subjects/S10/ICA/painloc_norm/f52977-133557-00038-00038-1.nii /media/claire/Data/EMPATHYP_DATA/Subjects/S10/ICA/painloc_norm/f52977-133939-00143-00143-1.nii /media/claire/Data/EMPATHYP_DATA/Subjects/S10/ICA/painloc_norm/f52977-133505-00013-00013-1.nii /media/claire/Data/EMPATHYP_DATA/Subjects/S10/ICA/painloc_norm/f52977-133947-00147-00147-1.nii /media/claire/Data/EMPATHYP_DATA/Subjects/S10/ICA/painloc_norm/f52977-133808-00100-00100-1.nii 2.10\n"
       ]
      },
      {
       "output_type": "stream",
       "stream": "stderr",
       "text": [
        "INFO:workflow:Executing node datasource.b035 in dir: /media/claire/Data/EMPATHYP_DATA/Subjects/preproc/_session_painloc_hypno_subject_id_S07/datasource\n"
       ]
      },
      {
       "output_type": "stream",
       "stream": "stderr",
       "text": [
        "INFO:workflow:Executing node merge_nii_in_4D_file.b035 in dir: /media/claire/Data/EMPATHYP_DATA/Subjects/preproc/_session_painloc_hypno_subject_id_S07/merge_nii_in_4D_file\n"
       ]
      },
      {
       "output_type": "stream",
       "stream": "stderr",
       "text": [
        "INFO:workflow:Running: fslmerge -tr f51847-115153-00099-00099-1_merged.nii.gz /media/claire/Data/EMPATHYP_DATA/Subjects/S07/ICA/painloc_hypno/f51847-115153-00099-00099-1.nii /media/claire/Data/EMPATHYP_DATA/Subjects/S07/ICA/painloc_hypno/f51847-115339-00149-00149-1.nii /media/claire/Data/EMPATHYP_DATA/Subjects/S07/ICA/painloc_hypno/f51847-114926-00029-00029-1.nii /media/claire/Data/EMPATHYP_DATA/Subjects/S07/ICA/painloc_hypno/f51847-114833-00004-00004-1.nii /media/claire/Data/EMPATHYP_DATA/Subjects/S07/ICA/painloc_hypno/f51847-115046-00067-00067-1.nii /media/claire/Data/EMPATHYP_DATA/Subjects/S07/ICA/painloc_hypno/f51847-115210-00107-00107-1.nii /media/claire/Data/EMPATHYP_DATA/Subjects/S07/ICA/painloc_hypno/f51847-115130-00088-00088-1.nii /media/claire/Data/EMPATHYP_DATA/Subjects/S07/ICA/painloc_hypno/f51847-115221-00112-00112-1.nii /media/claire/Data/EMPATHYP_DATA/Subjects/S07/ICA/painloc_hypno/f51847-115029-00059-00059-1.nii /media/claire/Data/EMPATHYP_DATA/Subjects/S07/ICA/painloc_hypno/f51847-115358-00158-00158-1.nii /media/claire/Data/EMPATHYP_DATA/Subjects/S07/ICA/painloc_hypno/f51847-115118-00082-00082-1.nii /media/claire/Data/EMPATHYP_DATA/Subjects/S07/ICA/painloc_hypno/f51847-114909-00021-00021-1.nii /media/claire/Data/EMPATHYP_DATA/Subjects/S07/ICA/painloc_hypno/f51847-115307-00134-00134-1.nii /media/claire/Data/EMPATHYP_DATA/Subjects/S07/ICA/painloc_hypno/f51847-115400-00159-00159-1.nii /media/claire/Data/EMPATHYP_DATA/Subjects/S07/ICA/painloc_hypno/f51847-115156-00100-00100-1.nii /media/claire/Data/EMPATHYP_DATA/Subjects/S07/ICA/painloc_hypno/f51847-115021-00055-00055-1.nii /media/claire/Data/EMPATHYP_DATA/Subjects/S07/ICA/painloc_hypno/f51847-115004-00047-00047-1.nii /media/claire/Data/EMPATHYP_DATA/Subjects/S07/ICA/painloc_hypno/f51847-115322-00141-00141-1.nii /media/claire/Data/EMPATHYP_DATA/Subjects/S07/ICA/painloc_hypno/f51847-115402-00160-00160-1.nii /media/claire/Data/EMPATHYP_DATA/Subjects/S07/ICA/painloc_hypno/f51847-115206-00105-00105-1.nii /media/claire/Data/EMPATHYP_DATA/Subjects/S07/ICA/painloc_hypno/f51847-115158-00101-00101-1.nii /media/claire/Data/EMPATHYP_DATA/Subjects/S07/ICA/painloc_hypno/f51847-115227-00115-00115-1.nii /media/claire/Data/EMPATHYP_DATA/Subjects/S07/ICA/painloc_hypno/f51847-115236-00119-00119-1.nii /media/claire/Data/EMPATHYP_DATA/Subjects/S07/ICA/painloc_hypno/f51847-114936-00034-00034-1.nii /media/claire/Data/EMPATHYP_DATA/Subjects/S07/ICA/painloc_hypno/f51847-115219-00111-00111-1.nii /media/claire/Data/EMPATHYP_DATA/Subjects/S07/ICA/painloc_hypno/f51847-115208-00106-00106-1.nii /media/claire/Data/EMPATHYP_DATA/Subjects/S07/ICA/painloc_hypno/f51847-115054-00071-00071-1.nii /media/claire/Data/EMPATHYP_DATA/Subjects/S07/ICA/painloc_hypno/f51847-114934-00033-00033-1.nii /media/claire/Data/EMPATHYP_DATA/Subjects/S07/ICA/painloc_hypno/f51847-115356-00157-00157-1.nii /media/claire/Data/EMPATHYP_DATA/Subjects/S07/ICA/painloc_hypno/f51847-115255-00128-00128-1.nii /media/claire/Data/EMPATHYP_DATA/Subjects/S07/ICA/painloc_hypno/f51847-114850-00012-00012-1.nii /media/claire/Data/EMPATHYP_DATA/Subjects/S07/ICA/painloc_hypno/f51847-114920-00026-00026-1.nii /media/claire/Data/EMPATHYP_DATA/Subjects/S07/ICA/painloc_hypno/f51847-114846-00010-00010-1.nii /media/claire/Data/EMPATHYP_DATA/Subjects/S07/ICA/painloc_hypno/f51847-115008-00049-00049-1.nii /media/claire/Data/EMPATHYP_DATA/Subjects/S07/ICA/painloc_hypno/f51847-115328-00144-00144-1.nii /media/claire/Data/EMPATHYP_DATA/Subjects/S07/ICA/painloc_hypno/f51847-115147-00096-00096-1.nii /media/claire/Data/EMPATHYP_DATA/Subjects/S07/ICA/painloc_hypno/f51847-115303-00132-00132-1.nii /media/claire/Data/EMPATHYP_DATA/Subjects/S07/ICA/painloc_hypno/f51847-115042-00065-00065-1.nii /media/claire/Data/EMPATHYP_DATA/Subjects/S07/ICA/painloc_hypno/f51847-115113-00080-00080-1.nii /media/claire/Data/EMPATHYP_DATA/Subjects/S07/ICA/painloc_hypno/f51847-114829-00002-00002-1.nii /media/claire/Data/EMPATHYP_DATA/Subjects/S07/ICA/painloc_hypno/f51847-115204-00104-00104-1.nii /media/claire/Data/EMPATHYP_DATA/Subjects/S07/ICA/painloc_hypno/f51847-115103-00075-00075-1.nii /media/claire/Data/EMPATHYP_DATA/Subjects/S07/ICA/painloc_hypno/f51847-115059-00073-00073-1.nii /media/claire/Data/EMPATHYP_DATA/Subjects/S07/ICA/painloc_hypno/f51847-115012-00051-00051-1.nii /media/claire/Data/EMPATHYP_DATA/Subjects/S07/ICA/painloc_hypno/f51847-114848-00011-00011-1.nii /media/claire/Data/EMPATHYP_DATA/Subjects/S07/ICA/painloc_hypno/f51847-115200-00102-00102-1.nii /media/claire/Data/EMPATHYP_DATA/Subjects/S07/ICA/painloc_hypno/f51847-114907-00020-00020-1.nii /media/claire/Data/EMPATHYP_DATA/Subjects/S07/ICA/painloc_hypno/f51847-115044-00066-00066-1.nii /media/claire/Data/EMPATHYP_DATA/Subjects/S07/ICA/painloc_hypno/f51847-115257-00129-00129-1.nii /media/claire/Data/EMPATHYP_DATA/Subjects/S07/ICA/painloc_hypno/f51847-114939-00035-00035-1.nii /media/claire/Data/EMPATHYP_DATA/Subjects/S07/ICA/painloc_hypno/f51847-115229-00116-00116-1.nii /media/claire/Data/EMPATHYP_DATA/Subjects/S07/ICA/painloc_hypno/f51847-114917-00025-00025-1.nii /media/claire/Data/EMPATHYP_DATA/Subjects/S07/ICA/painloc_hypno/f51847-114842-00008-00008-1.nii /media/claire/Data/EMPATHYP_DATA/Subjects/S07/ICA/painloc_hypno/f51847-115135-00090-00090-1.nii /media/claire/Data/EMPATHYP_DATA/Subjects/S07/ICA/painloc_hypno/f51847-115033-00061-00061-1.nii /media/claire/Data/EMPATHYP_DATA/Subjects/S07/ICA/painloc_hypno/f51847-115048-00068-00068-1.nii /media/claire/Data/EMPATHYP_DATA/Subjects/S07/ICA/painloc_hypno/f51847-115116-00081-00081-1.nii /media/claire/Data/EMPATHYP_DATA/Subjects/S07/ICA/painloc_hypno/f51847-114932-00032-00032-1.nii /media/claire/Data/EMPATHYP_DATA/Subjects/S07/ICA/painloc_hypno/f51847-115000-00045-00045-1.nii /media/claire/Data/EMPATHYP_DATA/Subjects/S07/ICA/painloc_hypno/f51847-115109-00078-00078-1.nii /media/claire/Data/EMPATHYP_DATA/Subjects/S07/ICA/painloc_hypno/f51847-115248-00125-00125-1.nii /media/claire/Data/EMPATHYP_DATA/Subjects/S07/ICA/painloc_hypno/f51847-115318-00139-00139-1.nii /media/claire/Data/EMPATHYP_DATA/Subjects/S07/ICA/painloc_hypno/f51847-114840-00007-00007-1.nii /media/claire/Data/EMPATHYP_DATA/Subjects/S07/ICA/painloc_hypno/f51847-115215-00109-00109-1.nii /media/claire/Data/EMPATHYP_DATA/Subjects/S07/ICA/painloc_hypno/f51847-115259-00130-00130-1.nii /media/claire/Data/EMPATHYP_DATA/Subjects/S07/ICA/painloc_hypno/f51847-115316-00138-00138-1.nii /media/claire/Data/EMPATHYP_DATA/Subjects/S07/ICA/painloc_hypno/f51847-115040-00064-00064-1.nii /media/claire/Data/EMPATHYP_DATA/Subjects/S07/ICA/painloc_hypno/f51847-114922-00027-00027-1.nii /media/claire/Data/EMPATHYP_DATA/Subjects/S07/ICA/painloc_hypno/f51847-115326-00143-00143-1.nii /media/claire/Data/EMPATHYP_DATA/Subjects/S07/ICA/painloc_hypno/f51847-114953-00042-00042-1.nii /media/claire/Data/EMPATHYP_DATA/Subjects/S07/ICA/painloc_hypno/f51847-114949-00040-00040-1.nii /media/claire/Data/EMPATHYP_DATA/Subjects/S07/ICA/painloc_hypno/f51847-115341-00150-00150-1.nii /media/claire/Data/EMPATHYP_DATA/Subjects/S07/ICA/painloc_hypno/f51847-115305-00133-00133-1.nii /media/claire/Data/EMPATHYP_DATA/Subjects/S07/ICA/painloc_hypno/f51847-115301-00131-00131-1.nii /media/claire/Data/EMPATHYP_DATA/Subjects/S07/ICA/painloc_hypno/f51847-115217-00110-00110-1.nii /media/claire/Data/EMPATHYP_DATA/Subjects/S07/ICA/painloc_hypno/f51847-115002-00046-00046-1.nii /media/claire/Data/EMPATHYP_DATA/Subjects/S07/ICA/painloc_hypno/f51847-114958-00044-00044-1.nii /media/claire/Data/EMPATHYP_DATA/Subjects/S07/ICA/painloc_hypno/f51847-114951-00041-00041-1.nii /media/claire/Data/EMPATHYP_DATA/Subjects/S07/ICA/painloc_hypno/f51847-114827-00001-00001-1.nii /media/claire/Data/EMPATHYP_DATA/Subjects/S07/ICA/painloc_hypno/f51847-114913-00023-00023-1.nii /media/claire/Data/EMPATHYP_DATA/Subjects/S07/ICA/painloc_hypno/f51847-115151-00098-00098-1.nii /media/claire/Data/EMPATHYP_DATA/Subjects/S07/ICA/painloc_hypno/f51847-115052-00070-00070-1.nii /media/claire/Data/EMPATHYP_DATA/Subjects/S07/ICA/painloc_hypno/f51847-115202-00103-00103-1.nii /media/claire/Data/EMPATHYP_DATA/Subjects/S07/ICA/painloc_hypno/f51847-115101-00074-00074-1.nii /media/claire/Data/EMPATHYP_DATA/Subjects/S07/ICA/painloc_hypno/f51847-115238-00120-00120-1.nii /media/claire/Data/EMPATHYP_DATA/Subjects/S07/ICA/painloc_hypno/f51847-115145-00095-00095-1.nii /media/claire/Data/EMPATHYP_DATA/Subjects/S07/ICA/painloc_hypno/f51847-115354-00156-00156-1.nii /media/claire/Data/EMPATHYP_DATA/Subjects/S07/ICA/painloc_hypno/f51847-115309-00135-00135-1.nii /media/claire/Data/EMPATHYP_DATA/Subjects/S07/ICA/painloc_hypno/f51847-115014-00052-00052-1.nii /media/claire/Data/EMPATHYP_DATA/Subjects/S07/ICA/painloc_hypno/f51847-115025-00057-00057-1.nii /media/claire/Data/EMPATHYP_DATA/Subjects/S07/ICA/painloc_hypno/f51847-114915-00024-00024-1.nii /media/claire/Data/EMPATHYP_DATA/Subjects/S07/ICA/painloc_hypno/f51847-115244-00123-00123-1.nii /media/claire/Data/EMPATHYP_DATA/Subjects/S07/ICA/painloc_hypno/f51847-115128-00087-00087-1.nii /media/claire/Data/EMPATHYP_DATA/Subjects/S07/ICA/painloc_hypno/f51847-115023-00056-00056-1.nii /media/claire/Data/EMPATHYP_DATA/Subjects/S07/ICA/painloc_hypno/f51847-114858-00016-00016-1.nii /media/claire/Data/EMPATHYP_DATA/Subjects/S07/ICA/painloc_hypno/f51847-115253-00127-00127-1.nii /media/claire/Data/EMPATHYP_DATA/Subjects/S07/ICA/painloc_hypno/f51847-115143-00094-00094-1.nii /media/claire/Data/EMPATHYP_DATA/Subjects/S07/ICA/painloc_hypno/f51847-115349-00154-00154-1.nii /media/claire/Data/EMPATHYP_DATA/Subjects/S07/ICA/painloc_hypno/f51847-115019-00054-00054-1.nii /media/claire/Data/EMPATHYP_DATA/Subjects/S07/ICA/painloc_hypno/f51847-115016-00053-00053-1.nii /media/claire/Data/EMPATHYP_DATA/Subjects/S07/ICA/painloc_hypno/f51847-115126-00086-00086-1.nii /media/claire/Data/EMPATHYP_DATA/Subjects/S07/ICA/painloc_hypno/f51847-115311-00136-00136-1.nii /media/claire/Data/EMPATHYP_DATA/Subjects/S07/ICA/painloc_hypno/f51847-114837-00006-00006-1.nii /media/claire/Data/EMPATHYP_DATA/Subjects/S07/ICA/painloc_hypno/f51847-114856-00015-00015-1.nii /media/claire/Data/EMPATHYP_DATA/Subjects/S07/ICA/painloc_hypno/f51847-114943-00037-00037-1.nii /media/claire/Data/EMPATHYP_DATA/Subjects/S07/ICA/painloc_hypno/f51847-115337-00148-00148-1.nii /media/claire/Data/EMPATHYP_DATA/Subjects/S07/ICA/painloc_hypno/f51847-115137-00091-00091-1.nii /media/claire/Data/EMPATHYP_DATA/Subjects/S07/ICA/painloc_hypno/f51847-115038-00063-00063-1.nii /media/claire/Data/EMPATHYP_DATA/Subjects/S07/ICA/painloc_hypno/f51847-115345-00152-00152-1.nii /media/claire/Data/EMPATHYP_DATA/Subjects/S07/ICA/painloc_hypno/f51847-114903-00018-00018-1.nii /media/claire/Data/EMPATHYP_DATA/Subjects/S07/ICA/painloc_hypno/f51847-115335-00147-00147-1.nii /media/claire/Data/EMPATHYP_DATA/Subjects/S07/ICA/painloc_hypno/f51847-115234-00118-00118-1.nii /media/claire/Data/EMPATHYP_DATA/Subjects/S07/ICA/painloc_hypno/f51847-114901-00017-00017-1.nii /media/claire/Data/EMPATHYP_DATA/Subjects/S07/ICA/painloc_hypno/f51847-115330-00145-00145-1.nii /media/claire/Data/EMPATHYP_DATA/Subjects/S07/ICA/painloc_hypno/f51847-115250-00126-00126-1.nii /media/claire/Data/EMPATHYP_DATA/Subjects/S07/ICA/painloc_hypno/f51847-115333-00146-00146-1.nii /media/claire/Data/EMPATHYP_DATA/Subjects/S07/ICA/painloc_hypno/f51847-115107-00077-00077-1.nii /media/claire/Data/EMPATHYP_DATA/Subjects/S07/ICA/painloc_hypno/f51847-115240-00121-00121-1.nii /media/claire/Data/EMPATHYP_DATA/Subjects/S07/ICA/painloc_hypno/f51847-115343-00151-00151-1.nii /media/claire/Data/EMPATHYP_DATA/Subjects/S07/ICA/painloc_hypno/f51847-114911-00022-00022-1.nii /media/claire/Data/EMPATHYP_DATA/Subjects/S07/ICA/painloc_hypno/f51847-115035-00062-00062-1.nii /media/claire/Data/EMPATHYP_DATA/Subjects/S07/ICA/painloc_hypno/f51847-114955-00043-00043-1.nii /media/claire/Data/EMPATHYP_DATA/Subjects/S07/ICA/painloc_hypno/f51847-114854-00014-00014-1.nii /media/claire/Data/EMPATHYP_DATA/Subjects/S07/ICA/painloc_hypno/f51847-114844-00009-00009-1.nii /media/claire/Data/EMPATHYP_DATA/Subjects/S07/ICA/painloc_hypno/f51847-115006-00048-00048-1.nii /media/claire/Data/EMPATHYP_DATA/Subjects/S07/ICA/painloc_hypno/f51847-115027-00058-00058-1.nii /media/claire/Data/EMPATHYP_DATA/Subjects/S07/ICA/painloc_hypno/f51847-114945-00038-00038-1.nii /media/claire/Data/EMPATHYP_DATA/Subjects/S07/ICA/painloc_hypno/f51847-114835-00005-00005-1.nii /media/claire/Data/EMPATHYP_DATA/Subjects/S07/ICA/painloc_hypno/f51847-115010-00050-00050-1.nii /media/claire/Data/EMPATHYP_DATA/Subjects/S07/ICA/painloc_hypno/f51847-115347-00153-00153-1.nii /media/claire/Data/EMPATHYP_DATA/Subjects/S07/ICA/painloc_hypno/f51847-115223-00113-00113-1.nii /media/claire/Data/EMPATHYP_DATA/Subjects/S07/ICA/painloc_hypno/f51847-114852-00013-00013-1.nii /media/claire/Data/EMPATHYP_DATA/Subjects/S07/ICA/painloc_hypno/f51847-115242-00122-00122-1.nii /media/claire/Data/EMPATHYP_DATA/Subjects/S07/ICA/painloc_hypno/f51847-115031-00060-00060-1.nii /media/claire/Data/EMPATHYP_DATA/Subjects/S07/ICA/painloc_hypno/f51847-115149-00097-00097-1.nii /media/claire/Data/EMPATHYP_DATA/Subjects/S07/ICA/painloc_hypno/f51847-115212-00108-00108-1.nii /media/claire/Data/EMPATHYP_DATA/Subjects/S07/ICA/painloc_hypno/f51847-115050-00069-00069-1.nii /media/claire/Data/EMPATHYP_DATA/Subjects/S07/ICA/painloc_hypno/f51847-115132-00089-00089-1.nii /media/claire/Data/EMPATHYP_DATA/Subjects/S07/ICA/painloc_hypno/f51847-115105-00076-00076-1.nii /media/claire/Data/EMPATHYP_DATA/Subjects/S07/ICA/painloc_hypno/f51847-115225-00114-00114-1.nii /media/claire/Data/EMPATHYP_DATA/Subjects/S07/ICA/painloc_hypno/f51847-115141-00093-00093-1.nii /media/claire/Data/EMPATHYP_DATA/Subjects/S07/ICA/painloc_hypno/f51847-114924-00028-00028-1.nii /media/claire/Data/EMPATHYP_DATA/Subjects/S07/ICA/painloc_hypno/f51847-115246-00124-00124-1.nii /media/claire/Data/EMPATHYP_DATA/Subjects/S07/ICA/painloc_hypno/f51847-114905-00019-00019-1.nii /media/claire/Data/EMPATHYP_DATA/Subjects/S07/ICA/painloc_hypno/f51847-114928-00030-00030-1.nii /media/claire/Data/EMPATHYP_DATA/Subjects/S07/ICA/painloc_hypno/f51847-114941-00036-00036-1.nii /media/claire/Data/EMPATHYP_DATA/Subjects/S07/ICA/painloc_hypno/f51847-114947-00039-00039-1.nii /media/claire/Data/EMPATHYP_DATA/Subjects/S07/ICA/painloc_hypno/f51847-115139-00092-00092-1.nii /media/claire/Data/EMPATHYP_DATA/Subjects/S07/ICA/painloc_hypno/f51847-115120-00083-00083-1.nii /media/claire/Data/EMPATHYP_DATA/Subjects/S07/ICA/painloc_hypno/f51847-115314-00137-00137-1.nii /media/claire/Data/EMPATHYP_DATA/Subjects/S07/ICA/painloc_hypno/f51847-115352-00155-00155-1.nii /media/claire/Data/EMPATHYP_DATA/Subjects/S07/ICA/painloc_hypno/f51847-115404-00161-00161-1.nii /media/claire/Data/EMPATHYP_DATA/Subjects/S07/ICA/painloc_hypno/f51847-115324-00142-00142-1.nii /media/claire/Data/EMPATHYP_DATA/Subjects/S07/ICA/painloc_hypno/f51847-115124-00085-00085-1.nii /media/claire/Data/EMPATHYP_DATA/Subjects/S07/ICA/painloc_hypno/f51847-115320-00140-00140-1.nii /media/claire/Data/EMPATHYP_DATA/Subjects/S07/ICA/painloc_hypno/f51847-115111-00079-00079-1.nii /media/claire/Data/EMPATHYP_DATA/Subjects/S07/ICA/painloc_hypno/f51847-115057-00072-00072-1.nii /media/claire/Data/EMPATHYP_DATA/Subjects/S07/ICA/painloc_hypno/f51847-114831-00003-00003-1.nii /media/claire/Data/EMPATHYP_DATA/Subjects/S07/ICA/painloc_hypno/f51847-115231-00117-00117-1.nii /media/claire/Data/EMPATHYP_DATA/Subjects/S07/ICA/painloc_hypno/f51847-114930-00031-00031-1.nii /media/claire/Data/EMPATHYP_DATA/Subjects/S07/ICA/painloc_hypno/f51847-115122-00084-00084-1.nii 2.10\n"
       ]
      },
      {
       "output_type": "stream",
       "stream": "stderr",
       "text": [
        "INFO:workflow:Executing node datasource.b049 in dir: /media/claire/Data/EMPATHYP_DATA/Subjects/preproc/_session_hypno2_subject_id_S10/datasource\n"
       ]
      },
      {
       "output_type": "stream",
       "stream": "stderr",
       "text": [
        "INFO:workflow:Executing node datasource.b102 in dir: /media/claire/Data/EMPATHYP_DATA/Subjects/preproc/_session_hypno1_subject_id_S19/datasource\n"
       ]
      },
      {
       "output_type": "stream",
       "stream": "stderr",
       "text": [
        "INFO:workflow:Executing node datasource.b034 in dir: /media/claire/Data/EMPATHYP_DATA/Subjects/preproc/_session_painloc_norm_subject_id_S07/datasource\n"
       ]
      },
      {
       "output_type": "stream",
       "stream": "stderr",
       "text": [
        "INFO:workflow:Executing node merge_nii_in_4D_file.b034 in dir: /media/claire/Data/EMPATHYP_DATA/Subjects/preproc/_session_painloc_norm_subject_id_S07/merge_nii_in_4D_file\n"
       ]
      },
      {
       "output_type": "stream",
       "stream": "stderr",
       "text": [
        "INFO:workflow:Running: fslmerge -tr f51847-111235-00012-00012-1_merged.nii.gz /media/claire/Data/EMPATHYP_DATA/Subjects/S07/ICA/painloc_norm/f51847-111235-00012-00012-1.nii /media/claire/Data/EMPATHYP_DATA/Subjects/S07/ICA/painloc_norm/f51847-111503-00082-00082-1.nii /media/claire/Data/EMPATHYP_DATA/Subjects/S07/ICA/painloc_norm/f51847-111353-00049-00049-1.nii /media/claire/Data/EMPATHYP_DATA/Subjects/S07/ICA/painloc_norm/f51847-111556-00107-00107-1.nii /media/claire/Data/EMPATHYP_DATA/Subjects/S07/ICA/painloc_norm/f51847-111248-00018-00018-1.nii /media/claire/Data/EMPATHYP_DATA/Subjects/S07/ICA/painloc_norm/f51847-111358-00051-00051-1.nii /media/claire/Data/EMPATHYP_DATA/Subjects/S07/ICA/painloc_norm/f51847-111522-00091-00091-1.nii /media/claire/Data/EMPATHYP_DATA/Subjects/S07/ICA/painloc_norm/f51847-111518-00089-00089-1.nii /media/claire/Data/EMPATHYP_DATA/Subjects/S07/ICA/painloc_norm/f51847-111543-00101-00101-1.nii /media/claire/Data/EMPATHYP_DATA/Subjects/S07/ICA/painloc_norm/f51847-111425-00064-00064-1.nii /media/claire/Data/EMPATHYP_DATA/Subjects/S07/ICA/painloc_norm/f51847-111316-00031-00031-1.nii /media/claire/Data/EMPATHYP_DATA/Subjects/S07/ICA/painloc_norm/f51847-111318-00032-00032-1.nii /media/claire/Data/EMPATHYP_DATA/Subjects/S07/ICA/painloc_norm/f51847-111535-00097-00097-1.nii /media/claire/Data/EMPATHYP_DATA/Subjects/S07/ICA/painloc_norm/f51847-111604-00111-00111-1.nii /media/claire/Data/EMPATHYP_DATA/Subjects/S07/ICA/painloc_norm/f51847-111219-00004-00004-1.nii /media/claire/Data/EMPATHYP_DATA/Subjects/S07/ICA/painloc_norm/f51847-111632-00124-00124-1.nii /media/claire/Data/EMPATHYP_DATA/Subjects/S07/ICA/painloc_norm/f51847-111648-00132-00132-1.nii /media/claire/Data/EMPATHYP_DATA/Subjects/S07/ICA/painloc_norm/f51847-111436-00069-00069-1.nii /media/claire/Data/EMPATHYP_DATA/Subjects/S07/ICA/painloc_norm/f51847-111720-00147-00147-1.nii /media/claire/Data/EMPATHYP_DATA/Subjects/S07/ICA/painloc_norm/f51847-111602-00110-00110-1.nii /media/claire/Data/EMPATHYP_DATA/Subjects/S07/ICA/painloc_norm/f51847-111335-00040-00040-1.nii /media/claire/Data/EMPATHYP_DATA/Subjects/S07/ICA/painloc_norm/f51847-111322-00034-00034-1.nii /media/claire/Data/EMPATHYP_DATA/Subjects/S07/ICA/painloc_norm/f51847-111642-00129-00129-1.nii /media/claire/Data/EMPATHYP_DATA/Subjects/S07/ICA/painloc_norm/f51847-111524-00092-00092-1.nii /media/claire/Data/EMPATHYP_DATA/Subjects/S07/ICA/painloc_norm/f51847-111659-00137-00137-1.nii /media/claire/Data/EMPATHYP_DATA/Subjects/S07/ICA/painloc_norm/f51847-111615-00116-00116-1.nii /media/claire/Data/EMPATHYP_DATA/Subjects/S07/ICA/painloc_norm/f51847-111408-00056-00056-1.nii /media/claire/Data/EMPATHYP_DATA/Subjects/S07/ICA/painloc_norm/f51847-111627-00122-00122-1.nii /media/claire/Data/EMPATHYP_DATA/Subjects/S07/ICA/painloc_norm/f51847-111716-00145-00145-1.nii /media/claire/Data/EMPATHYP_DATA/Subjects/S07/ICA/painloc_norm/f51847-111400-00052-00052-1.nii /media/claire/Data/EMPATHYP_DATA/Subjects/S07/ICA/painloc_norm/f51847-111328-00037-00037-1.nii /media/claire/Data/EMPATHYP_DATA/Subjects/S07/ICA/painloc_norm/f51847-111301-00024-00024-1.nii /media/claire/Data/EMPATHYP_DATA/Subjects/S07/ICA/painloc_norm/f51847-111712-00143-00143-1.nii /media/claire/Data/EMPATHYP_DATA/Subjects/S07/ICA/painloc_norm/f51847-111505-00083-00083-1.nii /media/claire/Data/EMPATHYP_DATA/Subjects/S07/ICA/painloc_norm/f51847-111634-00125-00125-1.nii /media/claire/Data/EMPATHYP_DATA/Subjects/S07/ICA/painloc_norm/f51847-111326-00036-00036-1.nii /media/claire/Data/EMPATHYP_DATA/Subjects/S07/ICA/painloc_norm/f51847-111710-00142-00142-1.nii /media/claire/Data/EMPATHYP_DATA/Subjects/S07/ICA/painloc_norm/f51847-111646-00131-00131-1.nii /media/claire/Data/EMPATHYP_DATA/Subjects/S07/ICA/painloc_norm/f51847-111347-00046-00046-1.nii /media/claire/Data/EMPATHYP_DATA/Subjects/S07/ICA/painloc_norm/f51847-111227-00008-00008-1.nii /media/claire/Data/EMPATHYP_DATA/Subjects/S07/ICA/painloc_norm/f51847-111554-00106-00106-1.nii /media/claire/Data/EMPATHYP_DATA/Subjects/S07/ICA/painloc_norm/f51847-111733-00153-00153-1.nii /media/claire/Data/EMPATHYP_DATA/Subjects/S07/ICA/painloc_norm/f51847-111617-00117-00117-1.nii /media/claire/Data/EMPATHYP_DATA/Subjects/S07/ICA/painloc_norm/f51847-111233-00011-00011-1.nii /media/claire/Data/EMPATHYP_DATA/Subjects/S07/ICA/painloc_norm/f51847-111417-00060-00060-1.nii /media/claire/Data/EMPATHYP_DATA/Subjects/S07/ICA/painloc_norm/f51847-111434-00068-00068-1.nii /media/claire/Data/EMPATHYP_DATA/Subjects/S07/ICA/painloc_norm/f51847-111339-00042-00042-1.nii /media/claire/Data/EMPATHYP_DATA/Subjects/S07/ICA/painloc_norm/f51847-111722-00148-00148-1.nii /media/claire/Data/EMPATHYP_DATA/Subjects/S07/ICA/painloc_norm/f51847-111402-00053-00053-1.nii /media/claire/Data/EMPATHYP_DATA/Subjects/S07/ICA/painloc_norm/f51847-111442-00072-00072-1.nii /media/claire/Data/EMPATHYP_DATA/Subjects/S07/ICA/painloc_norm/f51847-111351-00048-00048-1.nii /media/claire/Data/EMPATHYP_DATA/Subjects/S07/ICA/painloc_norm/f51847-111345-00045-00045-1.nii /media/claire/Data/EMPATHYP_DATA/Subjects/S07/ICA/painloc_norm/f51847-111724-00149-00149-1.nii /media/claire/Data/EMPATHYP_DATA/Subjects/S07/ICA/painloc_norm/f51847-111453-00077-00077-1.nii /media/claire/Data/EMPATHYP_DATA/Subjects/S07/ICA/painloc_norm/f51847-111440-00071-00071-1.nii /media/claire/Data/EMPATHYP_DATA/Subjects/S07/ICA/painloc_norm/f51847-111636-00126-00126-1.nii /media/claire/Data/EMPATHYP_DATA/Subjects/S07/ICA/painloc_norm/f51847-111705-00140-00140-1.nii /media/claire/Data/EMPATHYP_DATA/Subjects/S07/ICA/painloc_norm/f51847-111501-00081-00081-1.nii /media/claire/Data/EMPATHYP_DATA/Subjects/S07/ICA/painloc_norm/f51847-111611-00114-00114-1.nii /media/claire/Data/EMPATHYP_DATA/Subjects/S07/ICA/painloc_norm/f51847-111644-00130-00130-1.nii /media/claire/Data/EMPATHYP_DATA/Subjects/S07/ICA/painloc_norm/f51847-111625-00121-00121-1.nii /media/claire/Data/EMPATHYP_DATA/Subjects/S07/ICA/painloc_norm/f51847-111739-00156-00156-1.nii /media/claire/Data/EMPATHYP_DATA/Subjects/S07/ICA/painloc_norm/f51847-111221-00005-00005-1.nii /media/claire/Data/EMPATHYP_DATA/Subjects/S07/ICA/painloc_norm/f51847-111216-00003-00003-1.nii /media/claire/Data/EMPATHYP_DATA/Subjects/S07/ICA/painloc_norm/f51847-111410-00057-00057-1.nii /media/claire/Data/EMPATHYP_DATA/Subjects/S07/ICA/painloc_norm/f51847-111231-00010-00010-1.nii /media/claire/Data/EMPATHYP_DATA/Subjects/S07/ICA/painloc_norm/f51847-111313-00030-00030-1.nii /media/claire/Data/EMPATHYP_DATA/Subjects/S07/ICA/painloc_norm/f51847-111448-00075-00075-1.nii /media/claire/Data/EMPATHYP_DATA/Subjects/S07/ICA/painloc_norm/f51847-111254-00021-00021-1.nii /media/claire/Data/EMPATHYP_DATA/Subjects/S07/ICA/painloc_norm/f51847-111549-00104-00104-1.nii /media/claire/Data/EMPATHYP_DATA/Subjects/S07/ICA/painloc_norm/f51847-111520-00090-00090-1.nii /media/claire/Data/EMPATHYP_DATA/Subjects/S07/ICA/painloc_norm/f51847-111259-00023-00023-1.nii /media/claire/Data/EMPATHYP_DATA/Subjects/S07/ICA/painloc_norm/f51847-111703-00139-00139-1.nii /media/claire/Data/EMPATHYP_DATA/Subjects/S07/ICA/painloc_norm/f51847-111246-00017-00017-1.nii /media/claire/Data/EMPATHYP_DATA/Subjects/S07/ICA/painloc_norm/f51847-111444-00073-00073-1.nii /media/claire/Data/EMPATHYP_DATA/Subjects/S07/ICA/painloc_norm/f51847-111600-00109-00109-1.nii /media/claire/Data/EMPATHYP_DATA/Subjects/S07/ICA/painloc_norm/f51847-111305-00026-00026-1.nii /media/claire/Data/EMPATHYP_DATA/Subjects/S07/ICA/painloc_norm/f51847-111257-00022-00022-1.nii /media/claire/Data/EMPATHYP_DATA/Subjects/S07/ICA/painloc_norm/f51847-111552-00105-00105-1.nii /media/claire/Data/EMPATHYP_DATA/Subjects/S07/ICA/painloc_norm/f51847-111240-00014-00014-1.nii /media/claire/Data/EMPATHYP_DATA/Subjects/S07/ICA/painloc_norm/f51847-111337-00041-00041-1.nii /media/claire/Data/EMPATHYP_DATA/Subjects/S07/ICA/painloc_norm/f51847-111516-00088-00088-1.nii /media/claire/Data/EMPATHYP_DATA/Subjects/S07/ICA/painloc_norm/f51847-111741-00157-00157-1.nii /media/claire/Data/EMPATHYP_DATA/Subjects/S07/ICA/painloc_norm/f51847-111214-00002-00002-1.nii /media/claire/Data/EMPATHYP_DATA/Subjects/S07/ICA/painloc_norm/f51847-111619-00118-00118-1.nii /media/claire/Data/EMPATHYP_DATA/Subjects/S07/ICA/painloc_norm/f51847-111653-00134-00134-1.nii /media/claire/Data/EMPATHYP_DATA/Subjects/S07/ICA/painloc_norm/f51847-111613-00115-00115-1.nii /media/claire/Data/EMPATHYP_DATA/Subjects/S07/ICA/painloc_norm/f51847-111514-00087-00087-1.nii /media/claire/Data/EMPATHYP_DATA/Subjects/S07/ICA/painloc_norm/f51847-111745-00159-00159-1.nii /media/claire/Data/EMPATHYP_DATA/Subjects/S07/ICA/painloc_norm/f51847-111606-00112-00112-1.nii /media/claire/Data/EMPATHYP_DATA/Subjects/S07/ICA/painloc_norm/f51847-111446-00074-00074-1.nii /media/claire/Data/EMPATHYP_DATA/Subjects/S07/ICA/painloc_norm/f51847-111330-00038-00038-1.nii /media/claire/Data/EMPATHYP_DATA/Subjects/S07/ICA/painloc_norm/f51847-111539-00099-00099-1.nii /media/claire/Data/EMPATHYP_DATA/Subjects/S07/ICA/painloc_norm/f51847-111303-00025-00025-1.nii /media/claire/Data/EMPATHYP_DATA/Subjects/S07/ICA/painloc_norm/f51847-111307-00027-00027-1.nii /media/claire/Data/EMPATHYP_DATA/Subjects/S07/ICA/painloc_norm/f51847-111701-00138-00138-1.nii /media/claire/Data/EMPATHYP_DATA/Subjects/S07/ICA/painloc_norm/f51847-111655-00135-00135-1.nii /media/claire/Data/EMPATHYP_DATA/Subjects/S07/ICA/painloc_norm/f51847-111657-00136-00136-1.nii /media/claire/Data/EMPATHYP_DATA/Subjects/S07/ICA/painloc_norm/f51847-111457-00079-00079-1.nii /media/claire/Data/EMPATHYP_DATA/Subjects/S07/ICA/painloc_norm/f51847-111229-00009-00009-1.nii /media/claire/Data/EMPATHYP_DATA/Subjects/S07/ICA/painloc_norm/f51847-111640-00128-00128-1.nii /media/claire/Data/EMPATHYP_DATA/Subjects/S07/ICA/painloc_norm/f51847-111242-00015-00015-1.nii /media/claire/Data/EMPATHYP_DATA/Subjects/S07/ICA/painloc_norm/f51847-111415-00059-00059-1.nii /media/claire/Data/EMPATHYP_DATA/Subjects/S07/ICA/painloc_norm/f51847-111419-00061-00061-1.nii /media/claire/Data/EMPATHYP_DATA/Subjects/S07/ICA/painloc_norm/f51847-111511-00086-00086-1.nii /media/claire/Data/EMPATHYP_DATA/Subjects/S07/ICA/painloc_norm/f51847-111225-00007-00007-1.nii /media/claire/Data/EMPATHYP_DATA/Subjects/S07/ICA/painloc_norm/f51847-111223-00006-00006-1.nii /media/claire/Data/EMPATHYP_DATA/Subjects/S07/ICA/painloc_norm/f51847-111238-00013-00013-1.nii /media/claire/Data/EMPATHYP_DATA/Subjects/S07/ICA/painloc_norm/f51847-111558-00108-00108-1.nii /media/claire/Data/EMPATHYP_DATA/Subjects/S07/ICA/painloc_norm/f51847-111332-00039-00039-1.nii /media/claire/Data/EMPATHYP_DATA/Subjects/S07/ICA/painloc_norm/f51847-111455-00078-00078-1.nii /media/claire/Data/EMPATHYP_DATA/Subjects/S07/ICA/painloc_norm/f51847-111528-00094-00094-1.nii /media/claire/Data/EMPATHYP_DATA/Subjects/S07/ICA/painloc_norm/f51847-111623-00120-00120-1.nii /media/claire/Data/EMPATHYP_DATA/Subjects/S07/ICA/painloc_norm/f51847-111533-00096-00096-1.nii /media/claire/Data/EMPATHYP_DATA/Subjects/S07/ICA/painloc_norm/f51847-111737-00155-00155-1.nii /media/claire/Data/EMPATHYP_DATA/Subjects/S07/ICA/painloc_norm/f51847-111630-00123-00123-1.nii /media/claire/Data/EMPATHYP_DATA/Subjects/S07/ICA/painloc_norm/f51847-111423-00063-00063-1.nii /media/claire/Data/EMPATHYP_DATA/Subjects/S07/ICA/painloc_norm/f51847-111526-00093-00093-1.nii /media/claire/Data/EMPATHYP_DATA/Subjects/S07/ICA/painloc_norm/f51847-111343-00044-00044-1.nii /media/claire/Data/EMPATHYP_DATA/Subjects/S07/ICA/painloc_norm/f51847-111311-00029-00029-1.nii /media/claire/Data/EMPATHYP_DATA/Subjects/S07/ICA/painloc_norm/f51847-111412-00058-00058-1.nii /media/claire/Data/EMPATHYP_DATA/Subjects/S07/ICA/painloc_norm/f51847-111438-00070-00070-1.nii /media/claire/Data/EMPATHYP_DATA/Subjects/S07/ICA/painloc_norm/f51847-111324-00035-00035-1.nii /media/claire/Data/EMPATHYP_DATA/Subjects/S07/ICA/painloc_norm/f51847-111459-00080-00080-1.nii /media/claire/Data/EMPATHYP_DATA/Subjects/S07/ICA/painloc_norm/f51847-111250-00019-00019-1.nii /media/claire/Data/EMPATHYP_DATA/Subjects/S07/ICA/painloc_norm/f51847-111729-00151-00151-1.nii /media/claire/Data/EMPATHYP_DATA/Subjects/S07/ICA/painloc_norm/f51847-111530-00095-00095-1.nii /media/claire/Data/EMPATHYP_DATA/Subjects/S07/ICA/painloc_norm/f51847-111718-00146-00146-1.nii /media/claire/Data/EMPATHYP_DATA/Subjects/S07/ICA/painloc_norm/f51847-111638-00127-00127-1.nii /media/claire/Data/EMPATHYP_DATA/Subjects/S07/ICA/painloc_norm/f51847-111731-00152-00152-1.nii /media/claire/Data/EMPATHYP_DATA/Subjects/S07/ICA/painloc_norm/f51847-111320-00033-00033-1.nii /media/claire/Data/EMPATHYP_DATA/Subjects/S07/ICA/painloc_norm/f51847-111212-00001-00001-1.nii /media/claire/Data/EMPATHYP_DATA/Subjects/S07/ICA/painloc_norm/f51847-111356-00050-00050-1.nii /media/claire/Data/EMPATHYP_DATA/Subjects/S07/ICA/painloc_norm/f51847-111547-00103-00103-1.nii /media/claire/Data/EMPATHYP_DATA/Subjects/S07/ICA/painloc_norm/f51847-111545-00102-00102-1.nii /media/claire/Data/EMPATHYP_DATA/Subjects/S07/ICA/painloc_norm/f51847-111651-00133-00133-1.nii /media/claire/Data/EMPATHYP_DATA/Subjects/S07/ICA/painloc_norm/f51847-111714-00144-00144-1.nii /media/claire/Data/EMPATHYP_DATA/Subjects/S07/ICA/painloc_norm/f51847-111621-00119-00119-1.nii /media/claire/Data/EMPATHYP_DATA/Subjects/S07/ICA/painloc_norm/f51847-111427-00065-00065-1.nii /media/claire/Data/EMPATHYP_DATA/Subjects/S07/ICA/painloc_norm/f51847-111608-00113-00113-1.nii /media/claire/Data/EMPATHYP_DATA/Subjects/S07/ICA/painloc_norm/f51847-111252-00020-00020-1.nii /media/claire/Data/EMPATHYP_DATA/Subjects/S07/ICA/painloc_norm/f51847-111349-00047-00047-1.nii /media/claire/Data/EMPATHYP_DATA/Subjects/S07/ICA/painloc_norm/f51847-111309-00028-00028-1.nii /media/claire/Data/EMPATHYP_DATA/Subjects/S07/ICA/painloc_norm/f51847-111541-00100-00100-1.nii /media/claire/Data/EMPATHYP_DATA/Subjects/S07/ICA/painloc_norm/f51847-111509-00085-00085-1.nii /media/claire/Data/EMPATHYP_DATA/Subjects/S07/ICA/painloc_norm/f51847-111735-00154-00154-1.nii /media/claire/Data/EMPATHYP_DATA/Subjects/S07/ICA/painloc_norm/f51847-111537-00098-00098-1.nii /media/claire/Data/EMPATHYP_DATA/Subjects/S07/ICA/painloc_norm/f51847-111429-00066-00066-1.nii /media/claire/Data/EMPATHYP_DATA/Subjects/S07/ICA/painloc_norm/f51847-111707-00141-00141-1.nii /media/claire/Data/EMPATHYP_DATA/Subjects/S07/ICA/painloc_norm/f51847-111244-00016-00016-1.nii /media/claire/Data/EMPATHYP_DATA/Subjects/S07/ICA/painloc_norm/f51847-111431-00067-00067-1.nii /media/claire/Data/EMPATHYP_DATA/Subjects/S07/ICA/painloc_norm/f51847-111404-00054-00054-1.nii /media/claire/Data/EMPATHYP_DATA/Subjects/S07/ICA/painloc_norm/f51847-111406-00055-00055-1.nii /media/claire/Data/EMPATHYP_DATA/Subjects/S07/ICA/painloc_norm/f51847-111743-00158-00158-1.nii /media/claire/Data/EMPATHYP_DATA/Subjects/S07/ICA/painloc_norm/f51847-111341-00043-00043-1.nii /media/claire/Data/EMPATHYP_DATA/Subjects/S07/ICA/painloc_norm/f51847-111726-00150-00150-1.nii /media/claire/Data/EMPATHYP_DATA/Subjects/S07/ICA/painloc_norm/f51847-111421-00062-00062-1.nii /media/claire/Data/EMPATHYP_DATA/Subjects/S07/ICA/painloc_norm/f51847-111450-00076-00076-1.nii /media/claire/Data/EMPATHYP_DATA/Subjects/S07/ICA/painloc_norm/f51847-111507-00084-00084-1.nii 2.10\n"
       ]
      },
      {
       "output_type": "stream",
       "stream": "stderr",
       "text": [
        "INFO:workflow:Executing node motion_correc.b034 in dir: /media/claire/Data/EMPATHYP_DATA/Subjects/preproc/_session_painloc_norm_subject_id_S07/motion_correc\n"
       ]
      },
      {
       "output_type": "stream",
       "stream": "stderr",
       "text": [
        "INFO:workflow:Running: mcflirt -in /media/claire/Data/EMPATHYP_DATA/Subjects/preproc/_session_painloc_norm_subject_id_S07/merge_nii_in_4D_file/f51847-111235-00012-00012-1_merged.nii.gz -out /media/claire/Data/EMPATHYP_DATA/Subjects/preproc/_session_painloc_norm_subject_id_S07/motion_correc/f51847-111235-00012-00012-1_merged_mcf.nii.gz -mats -plots\n"
       ]
      },
      {
       "output_type": "stream",
       "stream": "stderr",
       "text": [
        "INFO:workflow:Executing node meanfunc.b034 in dir: /media/claire/Data/EMPATHYP_DATA/Subjects/preproc/_session_painloc_norm_subject_id_S07/meanfunc\n"
       ]
      },
      {
       "output_type": "stream",
       "stream": "stderr",
       "text": [
        "INFO:workflow:Running: fslmaths /media/claire/Data/EMPATHYP_DATA/Subjects/preproc/_session_painloc_norm_subject_id_S07/motion_correc/f51847-111235-00012-00012-1_merged_mcf.nii.gz -Tmean /media/claire/Data/EMPATHYP_DATA/Subjects/preproc/_session_painloc_norm_subject_id_S07/meanfunc/f51847-111235-00012-00012-1_merged_mcf_mean.nii.gz\n"
       ]
      },
      {
       "output_type": "stream",
       "stream": "stderr",
       "text": [
        "INFO:workflow:Executing node meanfuncmask.b034 in dir: /media/claire/Data/EMPATHYP_DATA/Subjects/preproc/_session_painloc_norm_subject_id_S07/meanfuncmask\n"
       ]
      },
      {
       "output_type": "stream",
       "stream": "stderr",
       "text": [
        "INFO:workflow:Running: bet /media/claire/Data/EMPATHYP_DATA/Subjects/preproc/_session_painloc_norm_subject_id_S07/meanfunc/f51847-111235-00012-00012-1_merged_mcf_mean.nii.gz /media/claire/Data/EMPATHYP_DATA/Subjects/preproc/_session_painloc_norm_subject_id_S07/meanfuncmask/f51847-111235-00012-00012-1_merged_mcf_mean_brain.nii.gz -f 0.30 -m -n\n"
       ]
      },
      {
       "output_type": "stream",
       "stream": "stderr",
       "text": [
        "INFO:workflow:Executing node maskfunc.b034 in dir: /media/claire/Data/EMPATHYP_DATA/Subjects/preproc/_session_painloc_norm_subject_id_S07/maskfunc\n"
       ]
      },
      {
       "output_type": "stream",
       "stream": "stderr",
       "text": [
        "INFO:workflow:Running: fslmaths /media/claire/Data/EMPATHYP_DATA/Subjects/preproc/_session_painloc_norm_subject_id_S07/motion_correc/f51847-111235-00012-00012-1_merged_mcf.nii.gz -mas /media/claire/Data/EMPATHYP_DATA/Subjects/preproc/_session_painloc_norm_subject_id_S07/meanfuncmask/f51847-111235-00012-00012-1_merged_mcf_mean_brain_mask.nii.gz /media/claire/Data/EMPATHYP_DATA/Subjects/preproc/_session_painloc_norm_subject_id_S07/maskfunc/f51847-111235-00012-00012-1_merged_mcf_bet.nii.gz\n"
       ]
      },
      {
       "output_type": "stream",
       "stream": "stderr",
       "text": [
        "INFO:workflow:Executing node highpass.b034 in dir: /media/claire/Data/EMPATHYP_DATA/Subjects/preproc/_session_painloc_norm_subject_id_S07/highpass\n"
       ]
      },
      {
       "output_type": "stream",
       "stream": "stderr",
       "text": [
        "INFO:workflow:Running: fslmaths /media/claire/Data/EMPATHYP_DATA/Subjects/preproc/_session_painloc_norm_subject_id_S07/maskfunc/f51847-111235-00012-00012-1_merged_mcf_bet.nii.gz /media/claire/Data/EMPATHYP_DATA/Subjects/preproc/_session_painloc_norm_subject_id_S07/highpass/f51847-111235-00012-00012-1_merged_mcf_bet_tempfilt.nii.gz\n"
       ]
      },
      {
       "output_type": "stream",
       "stream": "stderr",
       "text": [
        "INFO:workflow:Executing node plot_motion.aI.a0.b034 in dir: /media/claire/Data/EMPATHYP_DATA/Subjects/preproc/_session_painloc_norm_subject_id_S07/_plot_type_rotations/plot_motion\n"
       ]
      },
      {
       "output_type": "stream",
       "stream": "stderr",
       "text": [
        "INFO:workflow:Running: fsl_tsplot -i /media/claire/Data/EMPATHYP_DATA/Subjects/preproc/_session_painloc_norm_subject_id_S07/motion_correc/f51847-111235-00012-00012-1_merged_mcf.nii.gz.par -o /media/claire/Data/EMPATHYP_DATA/Subjects/preproc/_session_painloc_norm_subject_id_S07/motion_correc/f51847-111235-00012-00012-1_merged_mcf.nii.gz_rot.png -t 'MCFLIRT estimated rotations (radians)' --start=1 --finish=3 -a x,y,z\n"
       ]
      },
      {
       "output_type": "stream",
       "stream": "stderr",
       "text": [
        "INFO:workflow:Executing node datasource.b050 in dir: /media/claire/Data/EMPATHYP_DATA/Subjects/preproc/_session_norm1_subject_id_S10/datasource\n"
       ]
      },
      {
       "output_type": "stream",
       "stream": "stderr",
       "text": [
        "INFO:workflow:Executing node merge_nii_in_4D_file.b050 in dir: /media/claire/Data/EMPATHYP_DATA/Subjects/preproc/_session_norm1_subject_id_S10/merge_nii_in_4D_file\n"
       ]
      },
      {
       "output_type": "stream",
       "stream": "stderr",
       "text": [
        "INFO:workflow:Running: fslmerge -tr f52977-134200-00014-00014-1_merged.nii.gz /media/claire/Data/EMPATHYP_DATA/Subjects/S10/ICA/norm1/f52977-134200-00014-00014-1.nii /media/claire/Data/EMPATHYP_DATA/Subjects/S10/ICA/norm1/f52977-134626-00140-00140-1.nii /media/claire/Data/EMPATHYP_DATA/Subjects/S10/ICA/norm1/f52977-134329-00056-00056-1.nii /media/claire/Data/EMPATHYP_DATA/Subjects/S10/ICA/norm1/f52977-134514-00106-00106-1.nii /media/claire/Data/EMPATHYP_DATA/Subjects/S10/ICA/norm1/f52977-134712-00162-00162-1.nii /media/claire/Data/EMPATHYP_DATA/Subjects/S10/ICA/norm1/f52977-134719-00165-00165-1.nii /media/claire/Data/EMPATHYP_DATA/Subjects/S10/ICA/norm1/f52977-134607-00131-00131-1.nii /media/claire/Data/EMPATHYP_DATA/Subjects/S10/ICA/norm1/f52977-134508-00103-00103-1.nii /media/claire/Data/EMPATHYP_DATA/Subjects/S10/ICA/norm1/f52977-134356-00069-00069-1.nii /media/claire/Data/EMPATHYP_DATA/Subjects/S10/ICA/norm1/f52977-134245-00035-00035-1.nii /media/claire/Data/EMPATHYP_DATA/Subjects/S10/ICA/norm1/f52977-134432-00086-00086-1.nii /media/claire/Data/EMPATHYP_DATA/Subjects/S10/ICA/norm1/f52977-134529-00113-00113-1.nii /media/claire/Data/EMPATHYP_DATA/Subjects/S10/ICA/norm1/f52977-134230-00028-00028-1.nii /media/claire/Data/EMPATHYP_DATA/Subjects/S10/ICA/norm1/f52977-134636-00145-00145-1.nii /media/claire/Data/EMPATHYP_DATA/Subjects/S10/ICA/norm1/f52977-134137-00003-00003-1.nii /media/claire/Data/EMPATHYP_DATA/Subjects/S10/ICA/norm1/f52977-134601-00128-00128-1.nii /media/claire/Data/EMPATHYP_DATA/Subjects/S10/ICA/norm1/f52977-134133-00001-00001-1.nii /media/claire/Data/EMPATHYP_DATA/Subjects/S10/ICA/norm1/f52977-134407-00074-00074-1.nii /media/claire/Data/EMPATHYP_DATA/Subjects/S10/ICA/norm1/f52977-134141-00005-00005-1.nii /media/claire/Data/EMPATHYP_DATA/Subjects/S10/ICA/norm1/f52977-134221-00024-00024-1.nii /media/claire/Data/EMPATHYP_DATA/Subjects/S10/ICA/norm1/f52977-134537-00117-00117-1.nii /media/claire/Data/EMPATHYP_DATA/Subjects/S10/ICA/norm1/f52977-134455-00097-00097-1.nii /media/claire/Data/EMPATHYP_DATA/Subjects/S10/ICA/norm1/f52977-134417-00079-00079-1.nii /media/claire/Data/EMPATHYP_DATA/Subjects/S10/ICA/norm1/f52977-134516-00107-00107-1.nii /media/claire/Data/EMPATHYP_DATA/Subjects/S10/ICA/norm1/f52977-134609-00132-00132-1.nii /media/claire/Data/EMPATHYP_DATA/Subjects/S10/ICA/norm1/f52977-134320-00052-00052-1.nii /media/claire/Data/EMPATHYP_DATA/Subjects/S10/ICA/norm1/f52977-134449-00094-00094-1.nii /media/claire/Data/EMPATHYP_DATA/Subjects/S10/ICA/norm1/f52977-134535-00116-00116-1.nii /media/claire/Data/EMPATHYP_DATA/Subjects/S10/ICA/norm1/f52977-134605-00130-00130-1.nii /media/claire/Data/EMPATHYP_DATA/Subjects/S10/ICA/norm1/f52977-134544-00120-00120-1.nii /media/claire/Data/EMPATHYP_DATA/Subjects/S10/ICA/norm1/f52977-134304-00044-00044-1.nii /media/claire/Data/EMPATHYP_DATA/Subjects/S10/ICA/norm1/f52977-134413-00077-00077-1.nii /media/claire/Data/EMPATHYP_DATA/Subjects/S10/ICA/norm1/f52977-134215-00021-00021-1.nii /media/claire/Data/EMPATHYP_DATA/Subjects/S10/ICA/norm1/f52977-134306-00045-00045-1.nii /media/claire/Data/EMPATHYP_DATA/Subjects/S10/ICA/norm1/f52977-134559-00127-00127-1.nii /media/claire/Data/EMPATHYP_DATA/Subjects/S10/ICA/norm1/f52977-134316-00050-00050-1.nii /media/claire/Data/EMPATHYP_DATA/Subjects/S10/ICA/norm1/f52977-134341-00062-00062-1.nii /media/claire/Data/EMPATHYP_DATA/Subjects/S10/ICA/norm1/f52977-134502-00100-00100-1.nii /media/claire/Data/EMPATHYP_DATA/Subjects/S10/ICA/norm1/f52977-134426-00083-00083-1.nii /media/claire/Data/EMPATHYP_DATA/Subjects/S10/ICA/norm1/f52977-134710-00161-00161-1.nii /media/claire/Data/EMPATHYP_DATA/Subjects/S10/ICA/norm1/f52977-134333-00058-00058-1.nii /media/claire/Data/EMPATHYP_DATA/Subjects/S10/ICA/norm1/f52977-134257-00041-00041-1.nii /media/claire/Data/EMPATHYP_DATA/Subjects/S10/ICA/norm1/f52977-134704-00158-00158-1.nii /media/claire/Data/EMPATHYP_DATA/Subjects/S10/ICA/norm1/f52977-134542-00119-00119-1.nii /media/claire/Data/EMPATHYP_DATA/Subjects/S10/ICA/norm1/f52977-134438-00089-00089-1.nii /media/claire/Data/EMPATHYP_DATA/Subjects/S10/ICA/norm1/f52977-134411-00076-00076-1.nii /media/claire/Data/EMPATHYP_DATA/Subjects/S10/ICA/norm1/f52977-134430-00085-00085-1.nii /media/claire/Data/EMPATHYP_DATA/Subjects/S10/ICA/norm1/f52977-134552-00124-00124-1.nii /media/claire/Data/EMPATHYP_DATA/Subjects/S10/ICA/norm1/f52977-134339-00061-00061-1.nii /media/claire/Data/EMPATHYP_DATA/Subjects/S10/ICA/norm1/f52977-134451-00095-00095-1.nii /media/claire/Data/EMPATHYP_DATA/Subjects/S10/ICA/norm1/f52977-134152-00010-00010-1.nii /media/claire/Data/EMPATHYP_DATA/Subjects/S10/ICA/norm1/f52977-134350-00066-00066-1.nii /media/claire/Data/EMPATHYP_DATA/Subjects/S10/ICA/norm1/f52977-134727-00169-00169-1.nii /media/claire/Data/EMPATHYP_DATA/Subjects/S10/ICA/norm1/f52977-134645-00149-00149-1.nii /media/claire/Data/EMPATHYP_DATA/Subjects/S10/ICA/norm1/f52977-134554-00125-00125-1.nii /media/claire/Data/EMPATHYP_DATA/Subjects/S10/ICA/norm1/f52977-134445-00092-00092-1.nii /media/claire/Data/EMPATHYP_DATA/Subjects/S10/ICA/norm1/f52977-134550-00123-00123-1.nii /media/claire/Data/EMPATHYP_DATA/Subjects/S10/ICA/norm1/f52977-134506-00102-00102-1.nii /media/claire/Data/EMPATHYP_DATA/Subjects/S10/ICA/norm1/f52977-134643-00148-00148-1.nii /media/claire/Data/EMPATHYP_DATA/Subjects/S10/ICA/norm1/f52977-134512-00105-00105-1.nii /media/claire/Data/EMPATHYP_DATA/Subjects/S10/ICA/norm1/f52977-134548-00122-00122-1.nii /media/claire/Data/EMPATHYP_DATA/Subjects/S10/ICA/norm1/f52977-134658-00155-00155-1.nii /media/claire/Data/EMPATHYP_DATA/Subjects/S10/ICA/norm1/f52977-134156-00012-00012-1.nii /media/claire/Data/EMPATHYP_DATA/Subjects/S10/ICA/norm1/f52977-134436-00088-00088-1.nii /media/claire/Data/EMPATHYP_DATA/Subjects/S10/ICA/norm1/f52977-134146-00007-00007-1.nii /media/claire/Data/EMPATHYP_DATA/Subjects/S10/ICA/norm1/f52977-134620-00137-00137-1.nii /media/claire/Data/EMPATHYP_DATA/Subjects/S10/ICA/norm1/f52977-134723-00167-00167-1.nii /media/claire/Data/EMPATHYP_DATA/Subjects/S10/ICA/norm1/f52977-134344-00063-00063-1.nii /media/claire/Data/EMPATHYP_DATA/Subjects/S10/ICA/norm1/f52977-134135-00002-00002-1.nii /media/claire/Data/EMPATHYP_DATA/Subjects/S10/ICA/norm1/f52977-134204-00016-00016-1.nii /media/claire/Data/EMPATHYP_DATA/Subjects/S10/ICA/norm1/f52977-134217-00022-00022-1.nii /media/claire/Data/EMPATHYP_DATA/Subjects/S10/ICA/norm1/f52977-134354-00068-00068-1.nii /media/claire/Data/EMPATHYP_DATA/Subjects/S10/ICA/norm1/f52977-134533-00115-00115-1.nii /media/claire/Data/EMPATHYP_DATA/Subjects/S10/ICA/norm1/f52977-134249-00037-00037-1.nii /media/claire/Data/EMPATHYP_DATA/Subjects/S10/ICA/norm1/f52977-134247-00036-00036-1.nii /media/claire/Data/EMPATHYP_DATA/Subjects/S10/ICA/norm1/f52977-134632-00143-00143-1.nii /media/claire/Data/EMPATHYP_DATA/Subjects/S10/ICA/norm1/f52977-134634-00144-00144-1.nii /media/claire/Data/EMPATHYP_DATA/Subjects/S10/ICA/norm1/f52977-134400-00071-00071-1.nii /media/claire/Data/EMPATHYP_DATA/Subjects/S10/ICA/norm1/f52977-134603-00129-00129-1.nii /media/claire/Data/EMPATHYP_DATA/Subjects/S10/ICA/norm1/f52977-134259-00042-00042-1.nii /media/claire/Data/EMPATHYP_DATA/Subjects/S10/ICA/norm1/f52977-134148-00008-00008-1.nii /media/claire/Data/EMPATHYP_DATA/Subjects/S10/ICA/norm1/f52977-134150-00009-00009-1.nii /media/claire/Data/EMPATHYP_DATA/Subjects/S10/ICA/norm1/f52977-134510-00104-00104-1.nii /media/claire/Data/EMPATHYP_DATA/Subjects/S10/ICA/norm1/f52977-134352-00067-00067-1.nii /media/claire/Data/EMPATHYP_DATA/Subjects/S10/ICA/norm1/f52977-134314-00049-00049-1.nii /media/claire/Data/EMPATHYP_DATA/Subjects/S10/ICA/norm1/f52977-134405-00073-00073-1.nii /media/claire/Data/EMPATHYP_DATA/Subjects/S10/ICA/norm1/f52977-134301-00043-00043-1.nii /media/claire/Data/EMPATHYP_DATA/Subjects/S10/ICA/norm1/f52977-134335-00059-00059-1.nii /media/claire/Data/EMPATHYP_DATA/Subjects/S10/ICA/norm1/f52977-134234-00030-00030-1.nii /media/claire/Data/EMPATHYP_DATA/Subjects/S10/ICA/norm1/f52977-134209-00018-00018-1.nii /media/claire/Data/EMPATHYP_DATA/Subjects/S10/ICA/norm1/f52977-134714-00163-00163-1.nii /media/claire/Data/EMPATHYP_DATA/Subjects/S10/ICA/norm1/f52977-134308-00046-00046-1.nii /media/claire/Data/EMPATHYP_DATA/Subjects/S10/ICA/norm1/f52977-134441-00090-00090-1.nii /media/claire/Data/EMPATHYP_DATA/Subjects/S10/ICA/norm1/f52977-134346-00064-00064-1.nii /media/claire/Data/EMPATHYP_DATA/Subjects/S10/ICA/norm1/f52977-134202-00015-00015-1.nii /media/claire/Data/EMPATHYP_DATA/Subjects/S10/ICA/norm1/f52977-134717-00164-00164-1.nii /media/claire/Data/EMPATHYP_DATA/Subjects/S10/ICA/norm1/f52977-134419-00080-00080-1.nii /media/claire/Data/EMPATHYP_DATA/Subjects/S10/ICA/norm1/f52977-134721-00166-00166-1.nii /media/claire/Data/EMPATHYP_DATA/Subjects/S10/ICA/norm1/f52977-134226-00026-00026-1.nii /media/claire/Data/EMPATHYP_DATA/Subjects/S10/ICA/norm1/f52977-134628-00141-00141-1.nii /media/claire/Data/EMPATHYP_DATA/Subjects/S10/ICA/norm1/f52977-134318-00051-00051-1.nii /media/claire/Data/EMPATHYP_DATA/Subjects/S10/ICA/norm1/f52977-134223-00025-00025-1.nii /media/claire/Data/EMPATHYP_DATA/Subjects/S10/ICA/norm1/f52977-134232-00029-00029-1.nii /media/claire/Data/EMPATHYP_DATA/Subjects/S10/ICA/norm1/f52977-134622-00138-00138-1.nii /media/claire/Data/EMPATHYP_DATA/Subjects/S10/ICA/norm1/f52977-134154-00011-00011-1.nii /media/claire/Data/EMPATHYP_DATA/Subjects/S10/ICA/norm1/f52977-134613-00134-00134-1.nii /media/claire/Data/EMPATHYP_DATA/Subjects/S10/ICA/norm1/f52977-134540-00118-00118-1.nii /media/claire/Data/EMPATHYP_DATA/Subjects/S10/ICA/norm1/f52977-134531-00114-00114-1.nii /media/claire/Data/EMPATHYP_DATA/Subjects/S10/ICA/norm1/f52977-134409-00075-00075-1.nii /media/claire/Data/EMPATHYP_DATA/Subjects/S10/ICA/norm1/f52977-134630-00142-00142-1.nii /media/claire/Data/EMPATHYP_DATA/Subjects/S10/ICA/norm1/f52977-134236-00031-00031-1.nii /media/claire/Data/EMPATHYP_DATA/Subjects/S10/ICA/norm1/f52977-134242-00034-00034-1.nii /media/claire/Data/EMPATHYP_DATA/Subjects/S10/ICA/norm1/f52977-134523-00110-00110-1.nii /media/claire/Data/EMPATHYP_DATA/Subjects/S10/ICA/norm1/f52977-134504-00101-00101-1.nii /media/claire/Data/EMPATHYP_DATA/Subjects/S10/ICA/norm1/f52977-134708-00160-00160-1.nii /media/claire/Data/EMPATHYP_DATA/Subjects/S10/ICA/norm1/f52977-134725-00168-00168-1.nii /media/claire/Data/EMPATHYP_DATA/Subjects/S10/ICA/norm1/f52977-134139-00004-00004-1.nii /media/claire/Data/EMPATHYP_DATA/Subjects/S10/ICA/norm1/f52977-134253-00039-00039-1.nii /media/claire/Data/EMPATHYP_DATA/Subjects/S10/ICA/norm1/f52977-134617-00136-00136-1.nii /media/claire/Data/EMPATHYP_DATA/Subjects/S10/ICA/norm1/f52977-134255-00040-00040-1.nii /media/claire/Data/EMPATHYP_DATA/Subjects/S10/ICA/norm1/f52977-134213-00020-00020-1.nii /media/claire/Data/EMPATHYP_DATA/Subjects/S10/ICA/norm1/f52977-134447-00093-00093-1.nii /media/claire/Data/EMPATHYP_DATA/Subjects/S10/ICA/norm1/f52977-134518-00108-00108-1.nii /media/claire/Data/EMPATHYP_DATA/Subjects/S10/ICA/norm1/f52977-134251-00038-00038-1.nii /media/claire/Data/EMPATHYP_DATA/Subjects/S10/ICA/norm1/f52977-134651-00152-00152-1.nii /media/claire/Data/EMPATHYP_DATA/Subjects/S10/ICA/norm1/f52977-134700-00156-00156-1.nii /media/claire/Data/EMPATHYP_DATA/Subjects/S10/ICA/norm1/f52977-134615-00135-00135-1.nii /media/claire/Data/EMPATHYP_DATA/Subjects/S10/ICA/norm1/f52977-134641-00147-00147-1.nii /media/claire/Data/EMPATHYP_DATA/Subjects/S10/ICA/norm1/f52977-134337-00060-00060-1.nii /media/claire/Data/EMPATHYP_DATA/Subjects/S10/ICA/norm1/f52977-134457-00098-00098-1.nii /media/claire/Data/EMPATHYP_DATA/Subjects/S10/ICA/norm1/f52977-134706-00159-00159-1.nii /media/claire/Data/EMPATHYP_DATA/Subjects/S10/ICA/norm1/f52977-134443-00091-00091-1.nii /media/claire/Data/EMPATHYP_DATA/Subjects/S10/ICA/norm1/f52977-134649-00151-00151-1.nii /media/claire/Data/EMPATHYP_DATA/Subjects/S10/ICA/norm1/f52977-134211-00019-00019-1.nii /media/claire/Data/EMPATHYP_DATA/Subjects/S10/ICA/norm1/f52977-134312-00048-00048-1.nii /media/claire/Data/EMPATHYP_DATA/Subjects/S10/ICA/norm1/f52977-134611-00133-00133-1.nii /media/claire/Data/EMPATHYP_DATA/Subjects/S10/ICA/norm1/f52977-134403-00072-00072-1.nii /media/claire/Data/EMPATHYP_DATA/Subjects/S10/ICA/norm1/f52977-134428-00084-00084-1.nii /media/claire/Data/EMPATHYP_DATA/Subjects/S10/ICA/norm1/f52977-134453-00096-00096-1.nii /media/claire/Data/EMPATHYP_DATA/Subjects/S10/ICA/norm1/f52977-134655-00154-00154-1.nii /media/claire/Data/EMPATHYP_DATA/Subjects/S10/ICA/norm1/f52977-134219-00023-00023-1.nii /media/claire/Data/EMPATHYP_DATA/Subjects/S10/ICA/norm1/f52977-134434-00087-00087-1.nii /media/claire/Data/EMPATHYP_DATA/Subjects/S10/ICA/norm1/f52977-134525-00111-00111-1.nii /media/claire/Data/EMPATHYP_DATA/Subjects/S10/ICA/norm1/f52977-134527-00112-00112-1.nii /media/claire/Data/EMPATHYP_DATA/Subjects/S10/ICA/norm1/f52977-134331-00057-00057-1.nii /media/claire/Data/EMPATHYP_DATA/Subjects/S10/ICA/norm1/f52977-134158-00013-00013-1.nii /media/claire/Data/EMPATHYP_DATA/Subjects/S10/ICA/norm1/f52977-134228-00027-00027-1.nii /media/claire/Data/EMPATHYP_DATA/Subjects/S10/ICA/norm1/f52977-134702-00157-00157-1.nii /media/claire/Data/EMPATHYP_DATA/Subjects/S10/ICA/norm1/f52977-134207-00017-00017-1.nii /media/claire/Data/EMPATHYP_DATA/Subjects/S10/ICA/norm1/f52977-134624-00139-00139-1.nii /media/claire/Data/EMPATHYP_DATA/Subjects/S10/ICA/norm1/f52977-134238-00032-00032-1.nii /media/claire/Data/EMPATHYP_DATA/Subjects/S10/ICA/norm1/f52977-134415-00078-00078-1.nii /media/claire/Data/EMPATHYP_DATA/Subjects/S10/ICA/norm1/f52977-134143-00006-00006-1.nii /media/claire/Data/EMPATHYP_DATA/Subjects/S10/ICA/norm1/f52977-134639-00146-00146-1.nii /media/claire/Data/EMPATHYP_DATA/Subjects/S10/ICA/norm1/f52977-134310-00047-00047-1.nii /media/claire/Data/EMPATHYP_DATA/Subjects/S10/ICA/norm1/f52977-134521-00109-00109-1.nii /media/claire/Data/EMPATHYP_DATA/Subjects/S10/ICA/norm1/f52977-134322-00053-00053-1.nii /media/claire/Data/EMPATHYP_DATA/Subjects/S10/ICA/norm1/f52977-134422-00081-00081-1.nii /media/claire/Data/EMPATHYP_DATA/Subjects/S10/ICA/norm1/f52977-134653-00153-00153-1.nii /media/claire/Data/EMPATHYP_DATA/Subjects/S10/ICA/norm1/f52977-134459-00099-00099-1.nii /media/claire/Data/EMPATHYP_DATA/Subjects/S10/ICA/norm1/f52977-134325-00054-00054-1.nii /media/claire/Data/EMPATHYP_DATA/Subjects/S10/ICA/norm1/f52977-134358-00070-00070-1.nii /media/claire/Data/EMPATHYP_DATA/Subjects/S10/ICA/norm1/f52977-134240-00033-00033-1.nii /media/claire/Data/EMPATHYP_DATA/Subjects/S10/ICA/norm1/f52977-134556-00126-00126-1.nii /media/claire/Data/EMPATHYP_DATA/Subjects/S10/ICA/norm1/f52977-134424-00082-00082-1.nii /media/claire/Data/EMPATHYP_DATA/Subjects/S10/ICA/norm1/f52977-134546-00121-00121-1.nii /media/claire/Data/EMPATHYP_DATA/Subjects/S10/ICA/norm1/f52977-134327-00055-00055-1.nii /media/claire/Data/EMPATHYP_DATA/Subjects/S10/ICA/norm1/f52977-134348-00065-00065-1.nii /media/claire/Data/EMPATHYP_DATA/Subjects/S10/ICA/norm1/f52977-134647-00150-00150-1.nii 2.10\n"
       ]
      },
      {
       "output_type": "stream",
       "stream": "stderr",
       "text": [
        "INFO:workflow:Executing node motion_correc.b035 in dir: /media/claire/Data/EMPATHYP_DATA/Subjects/preproc/_session_painloc_hypno_subject_id_S07/motion_correc\n"
       ]
      },
      {
       "output_type": "stream",
       "stream": "stderr",
       "text": [
        "INFO:workflow:Running: mcflirt -in /media/claire/Data/EMPATHYP_DATA/Subjects/preproc/_session_painloc_hypno_subject_id_S07/merge_nii_in_4D_file/f51847-115153-00099-00099-1_merged.nii.gz -out /media/claire/Data/EMPATHYP_DATA/Subjects/preproc/_session_painloc_hypno_subject_id_S07/motion_correc/f51847-115153-00099-00099-1_merged_mcf.nii.gz -mats -plots\n"
       ]
      }
     ],
     "prompt_number": "*"
    },
    {
     "cell_type": "code",
     "collapsed": false,
     "input": [
      "preproc.write_graph('graph.png')\n",
      "from IPython.display import Image\n",
      "Image(filename = 'graph.dot')\n"
     ],
     "language": "python",
     "metadata": {},
     "outputs": [
      {
       "output_type": "stream",
       "stream": "stderr",
       "text": [
        "INFO:workflow:Converting dotfile: /media/claire/Data/EMPATHYP_DATA/Subjects/preproc/graph.png to png format\n"
       ]
      },
      {
       "ename": "ValueError",
       "evalue": "Cannot embed the 'dot' image format",
       "output_type": "pyerr",
       "traceback": [
        "\u001b[0;31m---------------------------------------------------------------------------\u001b[0m\n\u001b[0;31mValueError\u001b[0m                                Traceback (most recent call last)",
        "\u001b[0;32m<ipython-input-15-3cb95d21bfad>\u001b[0m in \u001b[0;36m<module>\u001b[0;34m()\u001b[0m\n\u001b[1;32m      1\u001b[0m \u001b[0mpreproc\u001b[0m\u001b[0;34m.\u001b[0m\u001b[0mwrite_graph\u001b[0m\u001b[0;34m(\u001b[0m\u001b[0;34m'graph.png'\u001b[0m\u001b[0;34m)\u001b[0m\u001b[0;34m\u001b[0m\u001b[0m\n\u001b[1;32m      2\u001b[0m \u001b[0;32mfrom\u001b[0m \u001b[0mIPython\u001b[0m\u001b[0;34m.\u001b[0m\u001b[0mdisplay\u001b[0m \u001b[0;32mimport\u001b[0m \u001b[0mImage\u001b[0m\u001b[0;34m\u001b[0m\u001b[0m\n\u001b[0;32m----> 3\u001b[0;31m \u001b[0mImage\u001b[0m\u001b[0;34m(\u001b[0m\u001b[0mfilename\u001b[0m \u001b[0;34m=\u001b[0m \u001b[0;34m'graph.dot'\u001b[0m\u001b[0;34m)\u001b[0m\u001b[0;34m\u001b[0m\u001b[0m\n\u001b[0m",
        "\u001b[0;32m/usr/lib/python2.7/dist-packages/IPython/core/display.pyc\u001b[0m in \u001b[0;36m__init__\u001b[0;34m(self, data, url, filename, format, embed, width, height, retina)\u001b[0m\n\u001b[1;32m    595\u001b[0m \u001b[0;34m\u001b[0m\u001b[0m\n\u001b[1;32m    596\u001b[0m         \u001b[0;32mif\u001b[0m \u001b[0mself\u001b[0m\u001b[0;34m.\u001b[0m\u001b[0membed\u001b[0m \u001b[0;32mand\u001b[0m \u001b[0mself\u001b[0m\u001b[0;34m.\u001b[0m\u001b[0mformat\u001b[0m \u001b[0;32mnot\u001b[0m \u001b[0;32min\u001b[0m \u001b[0mself\u001b[0m\u001b[0;34m.\u001b[0m\u001b[0m_ACCEPTABLE_EMBEDDINGS\u001b[0m\u001b[0;34m:\u001b[0m\u001b[0;34m\u001b[0m\u001b[0m\n\u001b[0;32m--> 597\u001b[0;31m             \u001b[0;32mraise\u001b[0m \u001b[0mValueError\u001b[0m\u001b[0;34m(\u001b[0m\u001b[0;34m\"Cannot embed the '%s' image format\"\u001b[0m \u001b[0;34m%\u001b[0m \u001b[0;34m(\u001b[0m\u001b[0mself\u001b[0m\u001b[0;34m.\u001b[0m\u001b[0mformat\u001b[0m\u001b[0;34m)\u001b[0m\u001b[0;34m)\u001b[0m\u001b[0;34m\u001b[0m\u001b[0m\n\u001b[0m\u001b[1;32m    598\u001b[0m         \u001b[0mself\u001b[0m\u001b[0;34m.\u001b[0m\u001b[0mwidth\u001b[0m \u001b[0;34m=\u001b[0m \u001b[0mwidth\u001b[0m\u001b[0;34m\u001b[0m\u001b[0m\n\u001b[1;32m    599\u001b[0m         \u001b[0mself\u001b[0m\u001b[0;34m.\u001b[0m\u001b[0mheight\u001b[0m \u001b[0;34m=\u001b[0m \u001b[0mheight\u001b[0m\u001b[0;34m\u001b[0m\u001b[0m\n",
        "\u001b[0;31mValueError\u001b[0m: Cannot embed the 'dot' image format"
       ]
      }
     ],
     "prompt_number": 15
    },
    {
     "cell_type": "code",
     "collapsed": false,
     "input": [],
     "language": "python",
     "metadata": {},
     "outputs": []
    }
   ],
   "metadata": {}
  }
 ]
}