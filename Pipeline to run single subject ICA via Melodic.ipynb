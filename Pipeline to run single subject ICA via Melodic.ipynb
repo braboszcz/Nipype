{
 "metadata": {
  "name": ""
 },
 "nbformat": 3,
 "nbformat_minor": 0,
 "worksheets": [
  {
   "cells": [
    {
     "cell_type": "markdown",
     "metadata": {},
     "source": [
      "Run singles subject ICA on single session for artefact rejection"
     ]
    },
    {
     "cell_type": "code",
     "collapsed": false,
     "input": [
      "# The script is:\n",
      "# - importing DICOMS into 3D NIFTI (for now done manually with Labnic's Matlab function)\n",
      "# - convert 3D Nifti to 4D\n",
      "# - run FSL FEAT function to realignement and filter data (no smoothing, no normalization ( = coregistration)\n",
      "# - run melodic ICA\n",
      "\n",
      "import nipype.pipeline.engine as pe\n",
      "import nipype.interfaces.io as nio\n",
      "import nipype.interfaces.fsl as fsl\n",
      "import nipype.interfaces.utility as util     # utility\n",
      "import os\n",
      "import glob \n",
      "\n",
      "fsl.FSLCommand.set_default_output_type('NIFTI_GZ')\n",
      "\n",
      "#---------------------------------------------------------------------------------------------------------#\n",
      "#                      Define subject and session list and expe directory\n",
      "#\n",
      "#---------------------------------------------------------------------------------------------------------#\n",
      "\n",
      "#SUBJ_LIST = [\"S02\", \"S03\", \"S04\", \"S05\", \"S06\", \"S07\", \"S08\", \"S09\", \"S10\", \"S11\", \"S12\", \"S13\", \"S14\", \"S15\", \"S16\", \"S17\", \"S18\", \"S19\", \"S20\"] \n",
      "subject_list = [\"S01\"] \n",
      "session_list = [\"hypno1\"] #, \"painloc_hypno\", \"hypno1\", \"hypno2\", \"norm1\", \"norm2\"\n",
      "expe_dir = os.path.abspath('/media/claire/Data/EMPATHYP_DATA/Subjects')\n",
      "\n",
      "#---------------------------------------------------------------------------------------------------------#\n",
      "#                      Define directory architecture and path variables to access the files\n",
      "#\n",
      "#---------------------------------------------------------------------------------------------------------#\n",
      "\n",
      "# define node Identity Interface to specify the list of subjects the pipeline should be executed on\n",
      "infosource= pe.Node(util.IdentityInterface(fields = ['subject_id', 'session']), name = 'infosource') # give the variable names in the path to iterate on \n",
      "infosource.iterables = ([('subject_id', subject_list), ('session', session_list)])\n",
      "\n",
      "# node datagrabber: to grab the input data\n",
      "datasource = pe.Node(nio.DataGrabber(infields = ['subject_id', 'session' ], outfields = ['out_files']), name = 'datasource') # \n",
      "datasource.inputs.base_directory = expe_dir # name of working directory\n",
      "datasource.inputs.template = '%s/ICA/%s/*.nii'   #path to access data from working directory, takes Data Grabber infields as variables\n",
      "datasource.inputs.sort_filelist = False # mandatory field\n",
      "\n",
      "# Node datasink: create data sink node to store important output\n",
      "datasink = pe.Node(nio.DataSink(), name = \"datasink\")\n",
      "datasink.inputs.base_directory = os.path.abspath(expe_dir) \n",
      "#datasink.inputs.container = 'session' + '_ica'  # define where the data sink input should be stored at                   \n",
      "datasink.inputs.parameterization= True; # do folder arobrescence\n",
      "datasink.inputs.substitutions = [('_session_', ''),('_subject_id','')] # remove extra names put by parametrization\n",
      "\n",
      "#---------------------------------------------------------------------------------------------------------#\n",
      "#                      Define functions to process the files\n",
      "#\n",
      "#---------------------------------------------------------------------------------------------------------#\n",
      "# pick the first file from a list of files\n",
      "def pickfirst(files):\n",
      "    if isinstance(files, list):\n",
      "        return files[0]\n",
      "    else:\n",
      "        return files\n",
      "\n",
      "\n",
      "# node to merge all nii to 4D nii\n",
      "merger = pe.Node(fsl.Merge(dimension = 't', \n",
      "                              output_type = 'NIFTI_GZ',\n",
      "                               tr = 2.1),  # glob.glob('*.nii')\n",
      "                               name = 'merge_nii_in_4D_file',\n",
      "                               #iterfield = ['in_file']\n",
      "                               )\n",
      "\n",
      "\n",
      "#motion correction\n",
      "motion_correct = pe.Node(fsl.MCFLIRT(save_mats = True, save_plots = True),\n",
      "                   name = 'motion_correc') \n",
      "                  # iterfield = ['in_file'])\n",
      "\n",
      "    \n",
      "### Get Mask for data\n",
      "\n",
      "#Extract the mean volume of the first functional run\n",
      "\n",
      "meanfunc = pe.Node(interface=fsl.ImageMaths(op_string = '-Tmean',\n",
      "                                            suffix='_mean'),\n",
      "                   name='meanfunc')\n",
      "\n",
      "#Strip the skull from the mean functional to generate a mask\n",
      "\n",
      "meanfuncmask = pe.Node(interface=fsl.BET(mask = True,\n",
      "                                         no_output=True,\n",
      "                                         frac = 0.3),\n",
      "                       name = 'meanfuncmask')\n",
      "\n",
      "#Mask the functional runs with the extracted mask\n",
      "maskfunc = pe.Node(interface=fsl.ImageMaths(suffix='_bet',\n",
      "                                               op_string='-mas'),\n",
      "                      #iterfield=['in_file'],\n",
      "                      name = 'maskfunc')\n",
      "    \n",
      "    \n",
      "#Determine the 2nd and 98th percentile intensities of each functional run\n",
      "getthresh = pe.Node(interface=fsl.ImageStats(op_string='-p 2 -p 98'),\n",
      "                       #iterfield = ['in_file'],\n",
      "                       name='getthreshold')\n",
      "\n",
      "#Threshold the first run of the functional data at 10% of the 98th percentile\n",
      "threshold = pe.Node(interface=fsl.ImageMaths(out_data_type='char',\n",
      "                                             suffix='_thresh'),\n",
      "                    name='threshold')\n",
      "\n",
      "#Define a function to get 10% of the intensity\n",
      "def getthreshop(thresh):\n",
      "    return '-thr %.10f -Tmin -bin'%(0.1*thresh[0][1])\n",
      "\n",
      "#Determine the median value of the functional runs using the mask\n",
      "medianval = pe.Node(interface=fsl.ImageStats(op_string='-k %s -p 50'),\n",
      "               #        iterfield = ['in_file'],\n",
      "                       name='medianval')\n",
      "\n",
      "#Dilate the mask\n",
      "dilatemask = pe.Node(interface=fsl.ImageMaths(suffix='_dil',\n",
      "                                              op_string='-dilF'),\n",
      "                     name='dilatemask')\n",
      "\n",
      "#Mask the motion corrected functional runs with the dilated mask\n",
      "maskfunc2 = pe.MapNode(interface=fsl.ImageMaths(suffix='_mask',\n",
      "                                                op_string='-mas'),\n",
      "                       iterfield=['in_file'],\n",
      "                       name='maskfunc2')\n",
      "\n",
      "\n",
      "\n",
      "\n",
      "\n",
      "# high pass filter\n",
      "highpass = pe.Node(interface=fsl.ImageMaths(suffix='_tempfilt'),\n",
      "                      #iterfield=['in_file'],\n",
      "                      name='highpass')\n",
      "\n",
      "\n",
      "#run ICA\n",
      "melodic = pe.Node(fsl.MELODIC(tr_sec = 2.1, report = True), name = 'melodic_ica') \n",
      "                              \n",
      "\n",
      "#---------------------------------------------------------------------------------------------------------#\n",
      "#                      Define workflow connection between functions\n",
      "#\n",
      "#---------------------------------------------------------------------------------------------------------#\n",
      "\n",
      "\n",
      "preproc = pe.Workflow(name='preproc')     \n",
      "preproc.base_dir = expe_dir\n",
      "# connect workflow\n",
      "preproc.connect([(infosource, datasource,[('subject_id', 'subject_id'), ('session', 'session')] ), #gives 2 inputs (subject id and sessin) to each infosource and datasource \n",
      "                 (datasource, merger, [('out_files', 'in_files')]), # the output of datasource (outfiles) is used as input to merger (in_files)\n",
      "                 (infosource, datasink, [('subject_id' , 'container')]), # affect subject id \n",
      "                 #(merger, datasink, [('merged_file', 'FSL_ICA.@container')]),\n",
      "                 (merger, motion_correct, [('merged_file', 'in_file' )]),\n",
      "                 #(motion_correct, datasink, [(['out_file', 'FSL_ICA/motion'])]),\n",
      "                 #(motion_correct, datasink, [(['par_file', 'FSL_ICA/motion_par'])]),\n",
      "                 (motion_correct, meanfunc, [(('out_file', pickfirst), 'in_file')]),\n",
      "                 (meanfunc, meanfuncmask, [(['out_file', 'in_file'])]),\n",
      "                 (motion_correct, maskfunc, [(['out_file',  'in_file'])]),\n",
      "                 (meanfuncmask, maskfunc, [(['mask_file', 'in_file2'])]),\n",
      "                # (maskfunc, getthresh, [([ 'out_file', 'in_file'])]),\n",
      "                #(maskfunc, threshold, [([('out_file', pickfirst), 'in_file'])]),\n",
      "               # (getthresh, threshold, [([('out_stat', getthreshop), 'op_string'])]), \n",
      "                #(motion_correct, medianval, [([ 'out_file', 'in_file'])]),\n",
      "                #(threshold, medianval, [([ 'out_file', 'mask_file'])]),\n",
      "                #(threshold, dilatemask, [(['out_file', 'in_file'])]),\n",
      "               # (motion_correct, maskfunc2, [([ 'out_file', 'in_file'])]),\n",
      "                #(dilatemask, maskfunc2, [([ 'out_file', 'in_file2'])]),\n",
      "                (maskfunc, highpass, [([ 'out_file', 'in_file'])]),\n",
      "                (highpass, melodic, [(['out_file', 'in_files'])]),\n",
      "                (melodic, datasink, [(['out_dir', 'FSL_ICA.@container/melodic'])]),\n",
      "                 ]) # the output of merger (merged_files)  is used as input to datasink to go in folder toto\n",
      "preproc.run()\n",
      "\n",
      "\n",
      "#---------------------------------------------------------------------------------------------------------#\n",
      "#                      Export graph of the workflow\n",
      "#\n",
      "#---------------------------------------------------------------------------------------------------------#\n",
      "\n",
      "\n",
      "preproc.write_graph(\"ica_workflow_graph.dot\")\n",
      "from IPython.display import Image\n",
      "Image(filename = \"ica_workflow_graph.dot.png\")\n"
     ],
     "language": "python",
     "metadata": {},
     "outputs": [
      {
       "output_type": "stream",
       "stream": "stderr",
       "text": [
        "INFO:workflow:['check', 'execution', 'logging']\n"
       ]
      },
      {
       "output_type": "stream",
       "stream": "stderr",
       "text": [
        "INFO:workflow:Running serially.\n"
       ]
      },
      {
       "output_type": "stream",
       "stream": "stderr",
       "text": [
        "INFO:workflow:Executing node datasource.a0 in dir: /media/claire/Data/EMPATHYP_DATA/Subjects/preproc/_session_hypno1_subject_id_S01/datasource\n"
       ]
      },
      {
       "output_type": "stream",
       "stream": "stderr",
       "text": [
        "INFO:workflow:Executing node merge_nii_in_4D_file.a0 in dir: /media/claire/Data/EMPATHYP_DATA/Subjects/preproc/_session_hypno1_subject_id_S01/merge_nii_in_4D_file\n"
       ]
      },
      {
       "output_type": "stream",
       "stream": "stderr",
       "text": [
        "INFO:workflow:Collecting precomputed outputs\n"
       ]
      },
      {
       "output_type": "stream",
       "stream": "stderr",
       "text": [
        "INFO:workflow:Executing node motion_correc.a0 in dir: /media/claire/Data/EMPATHYP_DATA/Subjects/preproc/_session_hypno1_subject_id_S01/motion_correc\n"
       ]
      },
      {
       "output_type": "stream",
       "stream": "stderr",
       "text": [
        "INFO:workflow:Collecting precomputed outputs\n"
       ]
      },
      {
       "output_type": "stream",
       "stream": "stderr",
       "text": [
        "INFO:workflow:Executing node meanfunc.a0 in dir: /media/claire/Data/EMPATHYP_DATA/Subjects/preproc/_session_hypno1_subject_id_S01/meanfunc\n"
       ]
      },
      {
       "output_type": "stream",
       "stream": "stderr",
       "text": [
        "INFO:workflow:Collecting precomputed outputs\n"
       ]
      },
      {
       "output_type": "stream",
       "stream": "stderr",
       "text": [
        "INFO:workflow:Executing node meanfuncmask.a0 in dir: /media/claire/Data/EMPATHYP_DATA/Subjects/preproc/_session_hypno1_subject_id_S01/meanfuncmask\n"
       ]
      },
      {
       "output_type": "stream",
       "stream": "stderr",
       "text": [
        "INFO:workflow:Collecting precomputed outputs\n"
       ]
      },
      {
       "output_type": "stream",
       "stream": "stderr",
       "text": [
        "INFO:workflow:Executing node maskfunc.a0 in dir: /media/claire/Data/EMPATHYP_DATA/Subjects/preproc/_session_hypno1_subject_id_S01/maskfunc\n"
       ]
      },
      {
       "output_type": "stream",
       "stream": "stderr",
       "text": [
        "INFO:workflow:Collecting precomputed outputs\n"
       ]
      },
      {
       "output_type": "stream",
       "stream": "stderr",
       "text": [
        "INFO:workflow:Executing node highpass.a0 in dir: /media/claire/Data/EMPATHYP_DATA/Subjects/preproc/_session_hypno1_subject_id_S01/highpass\n"
       ]
      },
      {
       "output_type": "stream",
       "stream": "stderr",
       "text": [
        "INFO:workflow:Running: fslmaths /media/claire/Data/EMPATHYP_DATA/Subjects/preproc/_session_hypno1_subject_id_S01/maskfunc/f48686-120045-00081-00081-1_merged_mcf_bet.nii.gz /media/claire/Data/EMPATHYP_DATA/Subjects/preproc/_session_hypno1_subject_id_S01/highpass/f48686-120045-00081-00081-1_merged_mcf_bet_tempfilt.nii.gz\n"
       ]
      },
      {
       "output_type": "stream",
       "stream": "stderr",
       "text": [
        "INFO:workflow:Executing node melodic_ica.a0 in dir: /media/claire/Data/EMPATHYP_DATA/Subjects/preproc/_session_hypno1_subject_id_S01/melodic_ica\n"
       ]
      },
      {
       "output_type": "stream",
       "stream": "stderr",
       "text": [
        "INFO:workflow:Running: melodic -i /media/claire/Data/EMPATHYP_DATA/Subjects/preproc/_session_hypno1_subject_id_S01/highpass/f48686-120045-00081-00081-1_merged_mcf_bet_tempfilt.nii.gz -o /media/claire/Data/EMPATHYP_DATA/Subjects/preproc/_session_hypno1_subject_id_S01/melodic_ica --report --tr=2.100000\n"
       ]
      },
      {
       "output_type": "stream",
       "stream": "stderr",
       "text": [
        "INFO:workflow:Executing node datasink.a0 in dir: /media/claire/Data/EMPATHYP_DATA/Subjects/preproc/_session_hypno1_subject_id_S01/datasink\n"
       ]
      },
      {
       "output_type": "stream",
       "stream": "stderr",
       "text": [
        "INFO:interface:sub: /media/claire/Data/EMPATHYP_DATA/Subjects/S01/FSL_ICA/_session_hypno1_subject_id_S01/report -> /media/claire/Data/EMPATHYP_DATA/Subjects/S01/FSL_ICA/hypno1_S01/report\n"
       ]
      },
      {
       "output_type": "stream",
       "stream": "stderr",
       "text": [
        "INFO:interface:sub: /media/claire/Data/EMPATHYP_DATA/Subjects/S01/FSL_ICA/_session_hypno1_subject_id_S01/melodic_ica -> /media/claire/Data/EMPATHYP_DATA/Subjects/S01/FSL_ICA/hypno1_S01/melodic_ica\n"
       ]
      },
      {
       "output_type": "stream",
       "stream": "stderr",
       "text": [
        "INFO:workflow:Converting dotfile: /media/claire/Data/EMPATHYP_DATA/Subjects/preproc/ica_workflow_graph.dot to png format\n"
       ]
      },
      {
       "metadata": {},
       "output_type": "pyout",
       "png": "[encoded data removed]",
       "prompt_number": 102,
       "text": [
        "<IPython.core.display.Image at 0x7fc1547e3110>"
       ]
      }
     ],
     "prompt_number": 102
    },
    {
     "cell_type": "code",
     "collapsed": false,
     "input": [
      "fsl.MELODIC.help()"
     ],
     "language": "python",
     "metadata": {},
     "outputs": [
      {
       "output_type": "stream",
       "stream": "stdout",
       "text": [
        "Wraps command **melodic**\n",
        "\n",
        "Multivariate Exploratory Linear Optimised Decomposition into Independent Components\n",
        "\n",
        "Examples\n",
        "--------\n",
        "\n",
        ">>> melodic_setup = MELODIC()\n",
        ">>> melodic_setup.inputs.approach = 'tica'\n",
        ">>> melodic_setup.inputs.in_files = ['functional.nii', 'functional2.nii', 'functional3.nii']\n",
        ">>> melodic_setup.inputs.no_bet = True\n",
        ">>> melodic_setup.inputs.bg_threshold = 10\n",
        ">>> melodic_setup.inputs.tr_sec = 1.5\n",
        ">>> melodic_setup.inputs.mm_thresh = 0.5\n",
        ">>> melodic_setup.inputs.out_stats = True\n",
        ">>> melodic_setup.inputs.t_des = 'timeDesign.mat'\n",
        ">>> melodic_setup.inputs.t_con = 'timeDesign.con'\n",
        ">>> melodic_setup.inputs.s_des = 'subjectDesign.mat'\n",
        ">>> melodic_setup.inputs.s_con = 'subjectDesign.con'\n",
        ">>> melodic_setup.inputs.out_dir = 'groupICA.out'\n",
        ">>> melodic_setup.cmdline\n",
        "'melodic -i functional.nii,functional2.nii,functional3.nii -a tica --bgthreshold=10.000000 --mmthresh=0.500000 --nobet -o groupICA.out --Ostats --Scon=subjectDesign.con --Sdes=subjectDesign.mat --Tcon=timeDesign.con --Tdes=timeDesign.mat --tr=1.500000'\n",
        ">>> melodic_setup.run() # doctest: +SKIP\n",
        "\n",
        "Inputs::\n",
        "\n",
        "\t[Mandatory]\n",
        "\tin_files: (an existing file name)\n",
        "\t\tinput file names (either single file name or a list)\n",
        "\t\tflag: -i %s, position: 0\n",
        "\tterminal_output: ('stream' or 'allatonce' or 'file' or 'none')\n",
        "\t\tControl terminal output: `stream` - displays to terminal\n",
        "\t\timmediately, `allatonce` - waits till command is finished to display\n",
        "\t\toutput, `file` - writes output to file, `none` - output is ignored\n",
        "\n",
        "\t[Optional]\n",
        "\tICs: (an existing file name)\n",
        "\t\tfilename of the IC components file for mixture modelling\n",
        "\t\tflag: --ICs=%s\n",
        "\tapproach: (a string)\n",
        "\t\tapproach for decomposition, 2D: defl, symm (default), 3D: tica\n",
        "\t\t(default), concat\n",
        "\t\tflag: -a %s\n",
        "\targs: (a string)\n",
        "\t\tAdditional parameters to the command\n",
        "\t\tflag: %s\n",
        "\tbg_image: (an existing file name)\n",
        "\t\tspecify background image for report (default: mean image)\n",
        "\t\tflag: --bgimage=%s\n",
        "\tbg_threshold: (a float)\n",
        "\t\tbrain/non-brain threshold used to mask non-brain voxels, as a\n",
        "\t\tpercentage (only if --nobet selected)\n",
        "\t\tflag: --bgthreshold=%f\n",
        "\tcov_weight: (a float)\n",
        "\t\tvoxel-wise weights for the covariance matrix (e.g. segmentation\n",
        "\t\tinformation)\n",
        "\t\tflag: --covarweight=%f\n",
        "\tdim: (an integer)\n",
        "\t\tdimensionality reduction into #num dimensions(default: automatic\n",
        "\t\testimation)\n",
        "\t\tflag: -d %d\n",
        "\tdim_est: (a string)\n",
        "\t\tuse specific dim. estimation technique: lap, bic, mdl, aic, mean\n",
        "\t\t(default: lap)\n",
        "\t\tflag: --dimest=%s\n",
        "\tenviron: (a dictionary with keys which are a value of type 'str' and\n",
        "\t\t with values which are a value of type 'str', nipype default value:\n",
        "\t\t {})\n",
        "\t\tEnvironment variables\n",
        "\tepsilon: (a float)\n",
        "\t\tminimum error change\n",
        "\t\tflag: --eps=%f\n",
        "\tepsilonS: (a float)\n",
        "\t\tminimum error change for rank-1 approximation in TICA\n",
        "\t\tflag: --epsS=%f\n",
        "\tignore_exception: (a boolean, nipype default value: False)\n",
        "\t\tPrint an error message instead of throwing an exception in case the\n",
        "\t\tinterface fails to run\n",
        "\tlog_power: (a boolean)\n",
        "\t\tcalculate log of power for frequency spectrum\n",
        "\t\tflag: --logPower\n",
        "\tmask: (an existing file name)\n",
        "\t\tfile name of mask for thresholding\n",
        "\t\tflag: -m %s\n",
        "\tmax_restart: (an integer)\n",
        "\t\tmaximum number of restarts\n",
        "\t\tflag: --maxrestart=%d\n",
        "\tmaxit: (an integer)\n",
        "\t\tmaximum number of iterations before restart\n",
        "\t\tflag: --maxit=%d\n",
        "\tmix: (an existing file name)\n",
        "\t\tmixing matrix for mixture modelling / filtering\n",
        "\t\tflag: --mix=%s\n",
        "\tmm_thresh: (a float)\n",
        "\t\tthreshold for Mixture Model based inference\n",
        "\t\tflag: --mmthresh=%f\n",
        "\tno_bet: (a boolean)\n",
        "\t\tswitch off BET\n",
        "\t\tflag: --nobet\n",
        "\tno_mask: (a boolean)\n",
        "\t\tswitch off masking\n",
        "\t\tflag: --nomask\n",
        "\tno_mm: (a boolean)\n",
        "\t\tswitch off mixture modelling on IC maps\n",
        "\t\tflag: --no_mm\n",
        "\tnon_linearity: (a string)\n",
        "\t\tnonlinearity: gauss, tanh, pow3, pow4\n",
        "\t\tflag: --nl=%s\n",
        "\tnum_ICs: (an integer)\n",
        "\t\tnumber of IC's to extract (for deflation approach)\n",
        "\t\tflag: -n %d\n",
        "\tout_all: (a boolean)\n",
        "\t\toutput everything\n",
        "\t\tflag: --Oall\n",
        "\tout_dir: (a directory name)\n",
        "\t\toutput directory name\n",
        "\t\tflag: -o %s\n",
        "\tout_mean: (a boolean)\n",
        "\t\toutput mean volume\n",
        "\t\tflag: --Omean\n",
        "\tout_orig: (a boolean)\n",
        "\t\toutput the original ICs\n",
        "\t\tflag: --Oorig\n",
        "\tout_pca: (a boolean)\n",
        "\t\toutput PCA results\n",
        "\t\tflag: --Opca\n",
        "\tout_stats: (a boolean)\n",
        "\t\toutput thresholded maps and probability maps\n",
        "\t\tflag: --Ostats\n",
        "\tout_unmix: (a boolean)\n",
        "\t\toutput unmixing matrix\n",
        "\t\tflag: --Ounmix\n",
        "\tout_white: (a boolean)\n",
        "\t\toutput whitening/dewhitening matrices\n",
        "\t\tflag: --Owhite\n",
        "\toutput_type: ('NIFTI_PAIR' or 'NIFTI_PAIR_GZ' or 'NIFTI_GZ' or\n",
        "\t\t 'NIFTI')\n",
        "\t\tFSL output type\n",
        "\tpbsc: (a boolean)\n",
        "\t\tswitch off conversion to percent BOLD signal change\n",
        "\t\tflag: --pbsc\n",
        "\trem_cmp: (a list of items which are an integer)\n",
        "\t\tcomponent numbers to remove\n",
        "\t\tflag: -f %d\n",
        "\tremove_deriv: (a boolean)\n",
        "\t\tremoves every second entry in paradigm file (EV derivatives)\n",
        "\t\tflag: --remove_deriv\n",
        "\treport: (a boolean)\n",
        "\t\tgenerate Melodic web report\n",
        "\t\tflag: --report\n",
        "\treport_maps: (a string)\n",
        "\t\tcontrol string for spatial map images (see slicer)\n",
        "\t\tflag: --report_maps=%s\n",
        "\ts_con: (an existing file name)\n",
        "\t\tt-contrast matrix across subject-domain\n",
        "\t\tflag: --Scon=%s\n",
        "\ts_des: (an existing file name)\n",
        "\t\tdesign matrix across subject-domain\n",
        "\t\tflag: --Sdes=%s\n",
        "\tsep_vn: (a boolean)\n",
        "\t\tswitch off joined variance normalization\n",
        "\t\tflag: --sep_vn\n",
        "\tsep_whiten: (a boolean)\n",
        "\t\tswitch on separate whitening\n",
        "\t\tflag: --sep_whiten\n",
        "\tsmode: (an existing file name)\n",
        "\t\tmatrix of session modes for report generation\n",
        "\t\tflag: --smode=%s\n",
        "\tt_con: (an existing file name)\n",
        "\t\tt-contrast matrix across time-domain\n",
        "\t\tflag: --Tcon=%s\n",
        "\tt_des: (an existing file name)\n",
        "\t\tdesign matrix across time-domain\n",
        "\t\tflag: --Tdes=%s\n",
        "\ttr_sec: (a float)\n",
        "\t\tTR in seconds\n",
        "\t\tflag: --tr=%f\n",
        "\tupdate_mask: (a boolean)\n",
        "\t\tswitch off mask updating\n",
        "\t\tflag: --update_mask\n",
        "\tvar_norm: (a boolean)\n",
        "\t\tswitch off variance normalization\n",
        "\t\tflag: --vn\n",
        "\n",
        "Outputs::\n",
        "\n",
        "\tout_dir: (an existing directory name)\n",
        "\treport_dir: (an existing directory name)\n",
        "\n"
       ]
      }
     ],
     "prompt_number": 78
    },
    {
     "cell_type": "code",
     "collapsed": false,
     "input": [],
     "language": "python",
     "metadata": {},
     "outputs": []
    }
   ],
   "metadata": {}
  }
 ]
}